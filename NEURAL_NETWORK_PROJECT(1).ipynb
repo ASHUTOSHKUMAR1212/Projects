{
  "nbformat": 4,
  "nbformat_minor": 0,
  "metadata": {
    "colab": {
      "provenance": []
    },
    "kernelspec": {
      "name": "python3",
      "display_name": "Python 3"
    },
    "language_info": {
      "name": "python"
    }
  },
  "cells": [
    {
      "cell_type": "code",
      "execution_count": null,
      "metadata": {
        "colab": {
          "base_uri": "https://localhost:8080/"
        },
        "id": "rBmPZiFeeQbY",
        "outputId": "a8fdde71-f36c-43dd-aa29-0938601f607d"
      },
      "outputs": [
        {
          "output_type": "stream",
          "name": "stdout",
          "text": [
            "Mounted at /content/drive\n"
          ]
        }
      ],
      "source": [
        "from google.colab import drive\n",
        "drive.mount('/content/drive')\n"
      ]
    },
    {
      "cell_type": "code",
      "source": [
        "# 1.1A-\n",
        "\n",
        "import pandas as pd\n",
        "import numpy as np\n",
        "import matplotlib.pyplot as plt\n",
        "import seaborn as sns\n",
        "\n",
        "signal_df = pd.read_csv('/content/drive/MyDrive/dataset/Part-+1%2C2%263+-+Signal.csv')"
      ],
      "metadata": {
        "id": "lbppctIiejY1"
      },
      "execution_count": null,
      "outputs": []
    },
    {
      "cell_type": "code",
      "source": [
        "signal_df.info()"
      ],
      "metadata": {
        "colab": {
          "base_uri": "https://localhost:8080/"
        },
        "id": "aaFB09mRfVKJ",
        "outputId": "212c9bd8-9d99-4139-88b7-547df62e42db"
      },
      "execution_count": null,
      "outputs": [
        {
          "output_type": "stream",
          "name": "stdout",
          "text": [
            "<class 'pandas.core.frame.DataFrame'>\n",
            "RangeIndex: 1599 entries, 0 to 1598\n",
            "Data columns (total 12 columns):\n",
            " #   Column           Non-Null Count  Dtype  \n",
            "---  ------           --------------  -----  \n",
            " 0   Parameter 1      1599 non-null   float64\n",
            " 1   Parameter 2      1599 non-null   float64\n",
            " 2   Parameter 3      1599 non-null   float64\n",
            " 3   Parameter 4      1599 non-null   float64\n",
            " 4   Parameter 5      1599 non-null   float64\n",
            " 5   Parameter 6      1599 non-null   float64\n",
            " 6   Parameter 7      1599 non-null   float64\n",
            " 7   Parameter 8      1599 non-null   float64\n",
            " 8   Parameter 9      1599 non-null   float64\n",
            " 9   Parameter 10     1599 non-null   float64\n",
            " 10  Parameter 11     1599 non-null   float64\n",
            " 11  Signal_Strength  1599 non-null   int64  \n",
            "dtypes: float64(11), int64(1)\n",
            "memory usage: 150.0 KB\n"
          ]
        }
      ]
    },
    {
      "cell_type": "code",
      "source": [
        "signal_df.describe()"
      ],
      "metadata": {
        "colab": {
          "base_uri": "https://localhost:8080/",
          "height": 300
        },
        "id": "S_SROtKffq6O",
        "outputId": "cbf41817-578d-4eb1-ad3f-b912796ca4c4"
      },
      "execution_count": null,
      "outputs": [
        {
          "output_type": "execute_result",
          "data": {
            "text/plain": [
              "       Parameter 1  Parameter 2  Parameter 3  Parameter 4  Parameter 5  \\\n",
              "count  1599.000000  1599.000000  1599.000000  1599.000000  1599.000000   \n",
              "mean      8.319637     0.527821     0.270976     2.538806     0.087467   \n",
              "std       1.741096     0.179060     0.194801     1.409928     0.047065   \n",
              "min       4.600000     0.120000     0.000000     0.900000     0.012000   \n",
              "25%       7.100000     0.390000     0.090000     1.900000     0.070000   \n",
              "50%       7.900000     0.520000     0.260000     2.200000     0.079000   \n",
              "75%       9.200000     0.640000     0.420000     2.600000     0.090000   \n",
              "max      15.900000     1.580000     1.000000    15.500000     0.611000   \n",
              "\n",
              "       Parameter 6  Parameter 7  Parameter 8  Parameter 9  Parameter 10  \\\n",
              "count  1599.000000  1599.000000  1599.000000  1599.000000   1599.000000   \n",
              "mean     15.874922    46.467792     0.996747     3.311113      0.658149   \n",
              "std      10.460157    32.895324     0.001887     0.154386      0.169507   \n",
              "min       1.000000     6.000000     0.990070     2.740000      0.330000   \n",
              "25%       7.000000    22.000000     0.995600     3.210000      0.550000   \n",
              "50%      14.000000    38.000000     0.996750     3.310000      0.620000   \n",
              "75%      21.000000    62.000000     0.997835     3.400000      0.730000   \n",
              "max      72.000000   289.000000     1.003690     4.010000      2.000000   \n",
              "\n",
              "       Parameter 11  Signal_Strength  \n",
              "count   1599.000000      1599.000000  \n",
              "mean      10.422983         5.636023  \n",
              "std        1.065668         0.807569  \n",
              "min        8.400000         3.000000  \n",
              "25%        9.500000         5.000000  \n",
              "50%       10.200000         6.000000  \n",
              "75%       11.100000         6.000000  \n",
              "max       14.900000         8.000000  "
            ],
            "text/html": [
              "\n",
              "  <div id=\"df-e11970b9-5a47-480a-8582-ac65ac9d52a4\" class=\"colab-df-container\">\n",
              "    <div>\n",
              "<style scoped>\n",
              "    .dataframe tbody tr th:only-of-type {\n",
              "        vertical-align: middle;\n",
              "    }\n",
              "\n",
              "    .dataframe tbody tr th {\n",
              "        vertical-align: top;\n",
              "    }\n",
              "\n",
              "    .dataframe thead th {\n",
              "        text-align: right;\n",
              "    }\n",
              "</style>\n",
              "<table border=\"1\" class=\"dataframe\">\n",
              "  <thead>\n",
              "    <tr style=\"text-align: right;\">\n",
              "      <th></th>\n",
              "      <th>Parameter 1</th>\n",
              "      <th>Parameter 2</th>\n",
              "      <th>Parameter 3</th>\n",
              "      <th>Parameter 4</th>\n",
              "      <th>Parameter 5</th>\n",
              "      <th>Parameter 6</th>\n",
              "      <th>Parameter 7</th>\n",
              "      <th>Parameter 8</th>\n",
              "      <th>Parameter 9</th>\n",
              "      <th>Parameter 10</th>\n",
              "      <th>Parameter 11</th>\n",
              "      <th>Signal_Strength</th>\n",
              "    </tr>\n",
              "  </thead>\n",
              "  <tbody>\n",
              "    <tr>\n",
              "      <th>count</th>\n",
              "      <td>1599.000000</td>\n",
              "      <td>1599.000000</td>\n",
              "      <td>1599.000000</td>\n",
              "      <td>1599.000000</td>\n",
              "      <td>1599.000000</td>\n",
              "      <td>1599.000000</td>\n",
              "      <td>1599.000000</td>\n",
              "      <td>1599.000000</td>\n",
              "      <td>1599.000000</td>\n",
              "      <td>1599.000000</td>\n",
              "      <td>1599.000000</td>\n",
              "      <td>1599.000000</td>\n",
              "    </tr>\n",
              "    <tr>\n",
              "      <th>mean</th>\n",
              "      <td>8.319637</td>\n",
              "      <td>0.527821</td>\n",
              "      <td>0.270976</td>\n",
              "      <td>2.538806</td>\n",
              "      <td>0.087467</td>\n",
              "      <td>15.874922</td>\n",
              "      <td>46.467792</td>\n",
              "      <td>0.996747</td>\n",
              "      <td>3.311113</td>\n",
              "      <td>0.658149</td>\n",
              "      <td>10.422983</td>\n",
              "      <td>5.636023</td>\n",
              "    </tr>\n",
              "    <tr>\n",
              "      <th>std</th>\n",
              "      <td>1.741096</td>\n",
              "      <td>0.179060</td>\n",
              "      <td>0.194801</td>\n",
              "      <td>1.409928</td>\n",
              "      <td>0.047065</td>\n",
              "      <td>10.460157</td>\n",
              "      <td>32.895324</td>\n",
              "      <td>0.001887</td>\n",
              "      <td>0.154386</td>\n",
              "      <td>0.169507</td>\n",
              "      <td>1.065668</td>\n",
              "      <td>0.807569</td>\n",
              "    </tr>\n",
              "    <tr>\n",
              "      <th>min</th>\n",
              "      <td>4.600000</td>\n",
              "      <td>0.120000</td>\n",
              "      <td>0.000000</td>\n",
              "      <td>0.900000</td>\n",
              "      <td>0.012000</td>\n",
              "      <td>1.000000</td>\n",
              "      <td>6.000000</td>\n",
              "      <td>0.990070</td>\n",
              "      <td>2.740000</td>\n",
              "      <td>0.330000</td>\n",
              "      <td>8.400000</td>\n",
              "      <td>3.000000</td>\n",
              "    </tr>\n",
              "    <tr>\n",
              "      <th>25%</th>\n",
              "      <td>7.100000</td>\n",
              "      <td>0.390000</td>\n",
              "      <td>0.090000</td>\n",
              "      <td>1.900000</td>\n",
              "      <td>0.070000</td>\n",
              "      <td>7.000000</td>\n",
              "      <td>22.000000</td>\n",
              "      <td>0.995600</td>\n",
              "      <td>3.210000</td>\n",
              "      <td>0.550000</td>\n",
              "      <td>9.500000</td>\n",
              "      <td>5.000000</td>\n",
              "    </tr>\n",
              "    <tr>\n",
              "      <th>50%</th>\n",
              "      <td>7.900000</td>\n",
              "      <td>0.520000</td>\n",
              "      <td>0.260000</td>\n",
              "      <td>2.200000</td>\n",
              "      <td>0.079000</td>\n",
              "      <td>14.000000</td>\n",
              "      <td>38.000000</td>\n",
              "      <td>0.996750</td>\n",
              "      <td>3.310000</td>\n",
              "      <td>0.620000</td>\n",
              "      <td>10.200000</td>\n",
              "      <td>6.000000</td>\n",
              "    </tr>\n",
              "    <tr>\n",
              "      <th>75%</th>\n",
              "      <td>9.200000</td>\n",
              "      <td>0.640000</td>\n",
              "      <td>0.420000</td>\n",
              "      <td>2.600000</td>\n",
              "      <td>0.090000</td>\n",
              "      <td>21.000000</td>\n",
              "      <td>62.000000</td>\n",
              "      <td>0.997835</td>\n",
              "      <td>3.400000</td>\n",
              "      <td>0.730000</td>\n",
              "      <td>11.100000</td>\n",
              "      <td>6.000000</td>\n",
              "    </tr>\n",
              "    <tr>\n",
              "      <th>max</th>\n",
              "      <td>15.900000</td>\n",
              "      <td>1.580000</td>\n",
              "      <td>1.000000</td>\n",
              "      <td>15.500000</td>\n",
              "      <td>0.611000</td>\n",
              "      <td>72.000000</td>\n",
              "      <td>289.000000</td>\n",
              "      <td>1.003690</td>\n",
              "      <td>4.010000</td>\n",
              "      <td>2.000000</td>\n",
              "      <td>14.900000</td>\n",
              "      <td>8.000000</td>\n",
              "    </tr>\n",
              "  </tbody>\n",
              "</table>\n",
              "</div>\n",
              "    <div class=\"colab-df-buttons\">\n",
              "\n",
              "  <div class=\"colab-df-container\">\n",
              "    <button class=\"colab-df-convert\" onclick=\"convertToInteractive('df-e11970b9-5a47-480a-8582-ac65ac9d52a4')\"\n",
              "            title=\"Convert this dataframe to an interactive table.\"\n",
              "            style=\"display:none;\">\n",
              "\n",
              "  <svg xmlns=\"http://www.w3.org/2000/svg\" height=\"24px\" viewBox=\"0 -960 960 960\">\n",
              "    <path d=\"M120-120v-720h720v720H120Zm60-500h600v-160H180v160Zm220 220h160v-160H400v160Zm0 220h160v-160H400v160ZM180-400h160v-160H180v160Zm440 0h160v-160H620v160ZM180-180h160v-160H180v160Zm440 0h160v-160H620v160Z\"/>\n",
              "  </svg>\n",
              "    </button>\n",
              "\n",
              "  <style>\n",
              "    .colab-df-container {\n",
              "      display:flex;\n",
              "      gap: 12px;\n",
              "    }\n",
              "\n",
              "    .colab-df-convert {\n",
              "      background-color: #E8F0FE;\n",
              "      border: none;\n",
              "      border-radius: 50%;\n",
              "      cursor: pointer;\n",
              "      display: none;\n",
              "      fill: #1967D2;\n",
              "      height: 32px;\n",
              "      padding: 0 0 0 0;\n",
              "      width: 32px;\n",
              "    }\n",
              "\n",
              "    .colab-df-convert:hover {\n",
              "      background-color: #E2EBFA;\n",
              "      box-shadow: 0px 1px 2px rgba(60, 64, 67, 0.3), 0px 1px 3px 1px rgba(60, 64, 67, 0.15);\n",
              "      fill: #174EA6;\n",
              "    }\n",
              "\n",
              "    .colab-df-buttons div {\n",
              "      margin-bottom: 4px;\n",
              "    }\n",
              "\n",
              "    [theme=dark] .colab-df-convert {\n",
              "      background-color: #3B4455;\n",
              "      fill: #D2E3FC;\n",
              "    }\n",
              "\n",
              "    [theme=dark] .colab-df-convert:hover {\n",
              "      background-color: #434B5C;\n",
              "      box-shadow: 0px 1px 3px 1px rgba(0, 0, 0, 0.15);\n",
              "      filter: drop-shadow(0px 1px 2px rgba(0, 0, 0, 0.3));\n",
              "      fill: #FFFFFF;\n",
              "    }\n",
              "  </style>\n",
              "\n",
              "    <script>\n",
              "      const buttonEl =\n",
              "        document.querySelector('#df-e11970b9-5a47-480a-8582-ac65ac9d52a4 button.colab-df-convert');\n",
              "      buttonEl.style.display =\n",
              "        google.colab.kernel.accessAllowed ? 'block' : 'none';\n",
              "\n",
              "      async function convertToInteractive(key) {\n",
              "        const element = document.querySelector('#df-e11970b9-5a47-480a-8582-ac65ac9d52a4');\n",
              "        const dataTable =\n",
              "          await google.colab.kernel.invokeFunction('convertToInteractive',\n",
              "                                                    [key], {});\n",
              "        if (!dataTable) return;\n",
              "\n",
              "        const docLinkHtml = 'Like what you see? Visit the ' +\n",
              "          '<a target=\"_blank\" href=https://colab.research.google.com/notebooks/data_table.ipynb>data table notebook</a>'\n",
              "          + ' to learn more about interactive tables.';\n",
              "        element.innerHTML = '';\n",
              "        dataTable['output_type'] = 'display_data';\n",
              "        await google.colab.output.renderOutput(dataTable, element);\n",
              "        const docLink = document.createElement('div');\n",
              "        docLink.innerHTML = docLinkHtml;\n",
              "        element.appendChild(docLink);\n",
              "      }\n",
              "    </script>\n",
              "  </div>\n",
              "\n",
              "\n",
              "<div id=\"df-66811a24-97bf-4100-9a45-a3adc057ad31\">\n",
              "  <button class=\"colab-df-quickchart\" onclick=\"quickchart('df-66811a24-97bf-4100-9a45-a3adc057ad31')\"\n",
              "            title=\"Suggest charts\"\n",
              "            style=\"display:none;\">\n",
              "\n",
              "<svg xmlns=\"http://www.w3.org/2000/svg\" height=\"24px\"viewBox=\"0 0 24 24\"\n",
              "     width=\"24px\">\n",
              "    <g>\n",
              "        <path d=\"M19 3H5c-1.1 0-2 .9-2 2v14c0 1.1.9 2 2 2h14c1.1 0 2-.9 2-2V5c0-1.1-.9-2-2-2zM9 17H7v-7h2v7zm4 0h-2V7h2v10zm4 0h-2v-4h2v4z\"/>\n",
              "    </g>\n",
              "</svg>\n",
              "  </button>\n",
              "\n",
              "<style>\n",
              "  .colab-df-quickchart {\n",
              "      --bg-color: #E8F0FE;\n",
              "      --fill-color: #1967D2;\n",
              "      --hover-bg-color: #E2EBFA;\n",
              "      --hover-fill-color: #174EA6;\n",
              "      --disabled-fill-color: #AAA;\n",
              "      --disabled-bg-color: #DDD;\n",
              "  }\n",
              "\n",
              "  [theme=dark] .colab-df-quickchart {\n",
              "      --bg-color: #3B4455;\n",
              "      --fill-color: #D2E3FC;\n",
              "      --hover-bg-color: #434B5C;\n",
              "      --hover-fill-color: #FFFFFF;\n",
              "      --disabled-bg-color: #3B4455;\n",
              "      --disabled-fill-color: #666;\n",
              "  }\n",
              "\n",
              "  .colab-df-quickchart {\n",
              "    background-color: var(--bg-color);\n",
              "    border: none;\n",
              "    border-radius: 50%;\n",
              "    cursor: pointer;\n",
              "    display: none;\n",
              "    fill: var(--fill-color);\n",
              "    height: 32px;\n",
              "    padding: 0;\n",
              "    width: 32px;\n",
              "  }\n",
              "\n",
              "  .colab-df-quickchart:hover {\n",
              "    background-color: var(--hover-bg-color);\n",
              "    box-shadow: 0 1px 2px rgba(60, 64, 67, 0.3), 0 1px 3px 1px rgba(60, 64, 67, 0.15);\n",
              "    fill: var(--button-hover-fill-color);\n",
              "  }\n",
              "\n",
              "  .colab-df-quickchart-complete:disabled,\n",
              "  .colab-df-quickchart-complete:disabled:hover {\n",
              "    background-color: var(--disabled-bg-color);\n",
              "    fill: var(--disabled-fill-color);\n",
              "    box-shadow: none;\n",
              "  }\n",
              "\n",
              "  .colab-df-spinner {\n",
              "    border: 2px solid var(--fill-color);\n",
              "    border-color: transparent;\n",
              "    border-bottom-color: var(--fill-color);\n",
              "    animation:\n",
              "      spin 1s steps(1) infinite;\n",
              "  }\n",
              "\n",
              "  @keyframes spin {\n",
              "    0% {\n",
              "      border-color: transparent;\n",
              "      border-bottom-color: var(--fill-color);\n",
              "      border-left-color: var(--fill-color);\n",
              "    }\n",
              "    20% {\n",
              "      border-color: transparent;\n",
              "      border-left-color: var(--fill-color);\n",
              "      border-top-color: var(--fill-color);\n",
              "    }\n",
              "    30% {\n",
              "      border-color: transparent;\n",
              "      border-left-color: var(--fill-color);\n",
              "      border-top-color: var(--fill-color);\n",
              "      border-right-color: var(--fill-color);\n",
              "    }\n",
              "    40% {\n",
              "      border-color: transparent;\n",
              "      border-right-color: var(--fill-color);\n",
              "      border-top-color: var(--fill-color);\n",
              "    }\n",
              "    60% {\n",
              "      border-color: transparent;\n",
              "      border-right-color: var(--fill-color);\n",
              "    }\n",
              "    80% {\n",
              "      border-color: transparent;\n",
              "      border-right-color: var(--fill-color);\n",
              "      border-bottom-color: var(--fill-color);\n",
              "    }\n",
              "    90% {\n",
              "      border-color: transparent;\n",
              "      border-bottom-color: var(--fill-color);\n",
              "    }\n",
              "  }\n",
              "</style>\n",
              "\n",
              "  <script>\n",
              "    async function quickchart(key) {\n",
              "      const quickchartButtonEl =\n",
              "        document.querySelector('#' + key + ' button');\n",
              "      quickchartButtonEl.disabled = true;  // To prevent multiple clicks.\n",
              "      quickchartButtonEl.classList.add('colab-df-spinner');\n",
              "      try {\n",
              "        const charts = await google.colab.kernel.invokeFunction(\n",
              "            'suggestCharts', [key], {});\n",
              "      } catch (error) {\n",
              "        console.error('Error during call to suggestCharts:', error);\n",
              "      }\n",
              "      quickchartButtonEl.classList.remove('colab-df-spinner');\n",
              "      quickchartButtonEl.classList.add('colab-df-quickchart-complete');\n",
              "    }\n",
              "    (() => {\n",
              "      let quickchartButtonEl =\n",
              "        document.querySelector('#df-66811a24-97bf-4100-9a45-a3adc057ad31 button');\n",
              "      quickchartButtonEl.style.display =\n",
              "        google.colab.kernel.accessAllowed ? 'block' : 'none';\n",
              "    })();\n",
              "  </script>\n",
              "</div>\n",
              "\n",
              "    </div>\n",
              "  </div>\n"
            ],
            "application/vnd.google.colaboratory.intrinsic+json": {
              "type": "dataframe",
              "summary": "{\n  \"name\": \"signal_df\",\n  \"rows\": 8,\n  \"fields\": [\n    {\n      \"column\": \"Parameter 1\",\n      \"properties\": {\n        \"dtype\": \"number\",\n        \"std\": 562.5806745048905,\n        \"min\": 1.7410963181276953,\n        \"max\": 1599.0,\n        \"num_unique_values\": 8,\n        \"samples\": [\n          8.31963727329581,\n          7.9,\n          1599.0\n        ],\n        \"semantic_type\": \"\",\n        \"description\": \"\"\n      }\n    },\n    {\n      \"column\": \"Parameter 2\",\n      \"properties\": {\n        \"dtype\": \"number\",\n        \"std\": 565.1321980080039,\n        \"min\": 0.12,\n        \"max\": 1599.0,\n        \"num_unique_values\": 8,\n        \"samples\": [\n          0.5278205128205128,\n          0.52,\n          1599.0\n        ],\n        \"semantic_type\": \"\",\n        \"description\": \"\"\n      }\n    },\n    {\n      \"column\": \"Parameter 3\",\n      \"properties\": {\n        \"dtype\": \"number\",\n        \"std\": 565.2190298438521,\n        \"min\": 0.0,\n        \"max\": 1599.0,\n        \"num_unique_values\": 8,\n        \"samples\": [\n          0.2709756097560976,\n          0.26,\n          1599.0\n        ],\n        \"semantic_type\": \"\",\n        \"description\": \"\"\n      }\n    },\n    {\n      \"column\": \"Parameter 4\",\n      \"properties\": {\n        \"dtype\": \"number\",\n        \"std\": 563.9859918397555,\n        \"min\": 0.9,\n        \"max\": 1599.0,\n        \"num_unique_values\": 8,\n        \"samples\": [\n          2.53880550343965,\n          2.2,\n          1599.0\n        ],\n        \"semantic_type\": \"\",\n        \"description\": \"\"\n      }\n    },\n    {\n      \"column\": \"Parameter 5\",\n      \"properties\": {\n        \"dtype\": \"number\",\n        \"std\": 565.2815720420849,\n        \"min\": 0.012,\n        \"max\": 1599.0,\n        \"num_unique_values\": 8,\n        \"samples\": [\n          0.08746654158849279,\n          0.079,\n          1599.0\n        ],\n        \"semantic_type\": \"\",\n        \"description\": \"\"\n      }\n    },\n    {\n      \"column\": \"Parameter 6\",\n      \"properties\": {\n        \"dtype\": \"number\",\n        \"std\": 558.6255652064851,\n        \"min\": 1.0,\n        \"max\": 1599.0,\n        \"num_unique_values\": 8,\n        \"samples\": [\n          15.874921826141339,\n          14.0,\n          1599.0\n        ],\n        \"semantic_type\": \"\",\n        \"description\": \"\"\n      }\n    },\n    {\n      \"column\": \"Parameter 7\",\n      \"properties\": {\n        \"dtype\": \"number\",\n        \"std\": 547.7946740169228,\n        \"min\": 6.0,\n        \"max\": 1599.0,\n        \"num_unique_values\": 8,\n        \"samples\": [\n          46.46779237023139,\n          38.0,\n          1599.0\n        ],\n        \"semantic_type\": \"\",\n        \"description\": \"\"\n      }\n    },\n    {\n      \"column\": \"Parameter 8\",\n      \"properties\": {\n        \"dtype\": \"number\",\n        \"std\": 565.0298129526795,\n        \"min\": 0.0018873339538425554,\n        \"max\": 1599.0,\n        \"num_unique_values\": 8,\n        \"samples\": [\n          0.9967466791744841,\n          0.99675,\n          1599.0\n        ],\n        \"semantic_type\": \"\",\n        \"description\": \"\"\n      }\n    },\n    {\n      \"column\": \"Parameter 9\",\n      \"properties\": {\n        \"dtype\": \"number\",\n        \"std\": 564.3160746075234,\n        \"min\": 0.15438646490354277,\n        \"max\": 1599.0,\n        \"num_unique_values\": 8,\n        \"samples\": [\n          3.3111131957473416,\n          3.31,\n          1599.0\n        ],\n        \"semantic_type\": \"\",\n        \"description\": \"\"\n      }\n    },\n    {\n      \"column\": \"Parameter 10\",\n      \"properties\": {\n        \"dtype\": \"number\",\n        \"std\": 565.0766914059569,\n        \"min\": 0.16950697959010996,\n        \"max\": 1599.0,\n        \"num_unique_values\": 8,\n        \"samples\": [\n          0.6581488430268917,\n          0.62,\n          1599.0\n        ],\n        \"semantic_type\": \"\",\n        \"description\": \"\"\n      }\n    },\n    {\n      \"column\": \"Parameter 11\",\n      \"properties\": {\n        \"dtype\": \"number\",\n        \"std\": 562.0325260314479,\n        \"min\": 1.0656675818563988,\n        \"max\": 1599.0,\n        \"num_unique_values\": 8,\n        \"samples\": [\n          10.422983114446529,\n          10.2,\n          1599.0\n        ],\n        \"semantic_type\": \"\",\n        \"description\": \"\"\n      }\n    },\n    {\n      \"column\": \"Signal_Strength\",\n      \"properties\": {\n        \"dtype\": \"number\",\n        \"std\": 563.5963817822505,\n        \"min\": 0.807569439734705,\n        \"max\": 1599.0,\n        \"num_unique_values\": 7,\n        \"samples\": [\n          1599.0,\n          5.6360225140712945,\n          6.0\n        ],\n        \"semantic_type\": \"\",\n        \"description\": \"\"\n      }\n    }\n  ]\n}"
            }
          },
          "metadata": {},
          "execution_count": 4
        }
      ]
    },
    {
      "cell_type": "code",
      "source": [
        "signal_df.head()"
      ],
      "metadata": {
        "colab": {
          "base_uri": "https://localhost:8080/",
          "height": 206
        },
        "id": "VqMrOSgLfvcE",
        "outputId": "b49b8736-2e17-4628-d3f9-c24270a7f402"
      },
      "execution_count": null,
      "outputs": [
        {
          "output_type": "execute_result",
          "data": {
            "text/plain": [
              "   Parameter 1  Parameter 2  Parameter 3  Parameter 4  Parameter 5  \\\n",
              "0          7.4         0.70         0.00          1.9        0.076   \n",
              "1          7.8         0.88         0.00          2.6        0.098   \n",
              "2          7.8         0.76         0.04          2.3        0.092   \n",
              "3         11.2         0.28         0.56          1.9        0.075   \n",
              "4          7.4         0.70         0.00          1.9        0.076   \n",
              "\n",
              "   Parameter 6  Parameter 7  Parameter 8  Parameter 9  Parameter 10  \\\n",
              "0         11.0         34.0       0.9978         3.51          0.56   \n",
              "1         25.0         67.0       0.9968         3.20          0.68   \n",
              "2         15.0         54.0       0.9970         3.26          0.65   \n",
              "3         17.0         60.0       0.9980         3.16          0.58   \n",
              "4         11.0         34.0       0.9978         3.51          0.56   \n",
              "\n",
              "   Parameter 11  Signal_Strength  \n",
              "0           9.4                5  \n",
              "1           9.8                5  \n",
              "2           9.8                5  \n",
              "3           9.8                6  \n",
              "4           9.4                5  "
            ],
            "text/html": [
              "\n",
              "  <div id=\"df-6512fc40-93a7-45fd-ba8b-961e12f72590\" class=\"colab-df-container\">\n",
              "    <div>\n",
              "<style scoped>\n",
              "    .dataframe tbody tr th:only-of-type {\n",
              "        vertical-align: middle;\n",
              "    }\n",
              "\n",
              "    .dataframe tbody tr th {\n",
              "        vertical-align: top;\n",
              "    }\n",
              "\n",
              "    .dataframe thead th {\n",
              "        text-align: right;\n",
              "    }\n",
              "</style>\n",
              "<table border=\"1\" class=\"dataframe\">\n",
              "  <thead>\n",
              "    <tr style=\"text-align: right;\">\n",
              "      <th></th>\n",
              "      <th>Parameter 1</th>\n",
              "      <th>Parameter 2</th>\n",
              "      <th>Parameter 3</th>\n",
              "      <th>Parameter 4</th>\n",
              "      <th>Parameter 5</th>\n",
              "      <th>Parameter 6</th>\n",
              "      <th>Parameter 7</th>\n",
              "      <th>Parameter 8</th>\n",
              "      <th>Parameter 9</th>\n",
              "      <th>Parameter 10</th>\n",
              "      <th>Parameter 11</th>\n",
              "      <th>Signal_Strength</th>\n",
              "    </tr>\n",
              "  </thead>\n",
              "  <tbody>\n",
              "    <tr>\n",
              "      <th>0</th>\n",
              "      <td>7.4</td>\n",
              "      <td>0.70</td>\n",
              "      <td>0.00</td>\n",
              "      <td>1.9</td>\n",
              "      <td>0.076</td>\n",
              "      <td>11.0</td>\n",
              "      <td>34.0</td>\n",
              "      <td>0.9978</td>\n",
              "      <td>3.51</td>\n",
              "      <td>0.56</td>\n",
              "      <td>9.4</td>\n",
              "      <td>5</td>\n",
              "    </tr>\n",
              "    <tr>\n",
              "      <th>1</th>\n",
              "      <td>7.8</td>\n",
              "      <td>0.88</td>\n",
              "      <td>0.00</td>\n",
              "      <td>2.6</td>\n",
              "      <td>0.098</td>\n",
              "      <td>25.0</td>\n",
              "      <td>67.0</td>\n",
              "      <td>0.9968</td>\n",
              "      <td>3.20</td>\n",
              "      <td>0.68</td>\n",
              "      <td>9.8</td>\n",
              "      <td>5</td>\n",
              "    </tr>\n",
              "    <tr>\n",
              "      <th>2</th>\n",
              "      <td>7.8</td>\n",
              "      <td>0.76</td>\n",
              "      <td>0.04</td>\n",
              "      <td>2.3</td>\n",
              "      <td>0.092</td>\n",
              "      <td>15.0</td>\n",
              "      <td>54.0</td>\n",
              "      <td>0.9970</td>\n",
              "      <td>3.26</td>\n",
              "      <td>0.65</td>\n",
              "      <td>9.8</td>\n",
              "      <td>5</td>\n",
              "    </tr>\n",
              "    <tr>\n",
              "      <th>3</th>\n",
              "      <td>11.2</td>\n",
              "      <td>0.28</td>\n",
              "      <td>0.56</td>\n",
              "      <td>1.9</td>\n",
              "      <td>0.075</td>\n",
              "      <td>17.0</td>\n",
              "      <td>60.0</td>\n",
              "      <td>0.9980</td>\n",
              "      <td>3.16</td>\n",
              "      <td>0.58</td>\n",
              "      <td>9.8</td>\n",
              "      <td>6</td>\n",
              "    </tr>\n",
              "    <tr>\n",
              "      <th>4</th>\n",
              "      <td>7.4</td>\n",
              "      <td>0.70</td>\n",
              "      <td>0.00</td>\n",
              "      <td>1.9</td>\n",
              "      <td>0.076</td>\n",
              "      <td>11.0</td>\n",
              "      <td>34.0</td>\n",
              "      <td>0.9978</td>\n",
              "      <td>3.51</td>\n",
              "      <td>0.56</td>\n",
              "      <td>9.4</td>\n",
              "      <td>5</td>\n",
              "    </tr>\n",
              "  </tbody>\n",
              "</table>\n",
              "</div>\n",
              "    <div class=\"colab-df-buttons\">\n",
              "\n",
              "  <div class=\"colab-df-container\">\n",
              "    <button class=\"colab-df-convert\" onclick=\"convertToInteractive('df-6512fc40-93a7-45fd-ba8b-961e12f72590')\"\n",
              "            title=\"Convert this dataframe to an interactive table.\"\n",
              "            style=\"display:none;\">\n",
              "\n",
              "  <svg xmlns=\"http://www.w3.org/2000/svg\" height=\"24px\" viewBox=\"0 -960 960 960\">\n",
              "    <path d=\"M120-120v-720h720v720H120Zm60-500h600v-160H180v160Zm220 220h160v-160H400v160Zm0 220h160v-160H400v160ZM180-400h160v-160H180v160Zm440 0h160v-160H620v160ZM180-180h160v-160H180v160Zm440 0h160v-160H620v160Z\"/>\n",
              "  </svg>\n",
              "    </button>\n",
              "\n",
              "  <style>\n",
              "    .colab-df-container {\n",
              "      display:flex;\n",
              "      gap: 12px;\n",
              "    }\n",
              "\n",
              "    .colab-df-convert {\n",
              "      background-color: #E8F0FE;\n",
              "      border: none;\n",
              "      border-radius: 50%;\n",
              "      cursor: pointer;\n",
              "      display: none;\n",
              "      fill: #1967D2;\n",
              "      height: 32px;\n",
              "      padding: 0 0 0 0;\n",
              "      width: 32px;\n",
              "    }\n",
              "\n",
              "    .colab-df-convert:hover {\n",
              "      background-color: #E2EBFA;\n",
              "      box-shadow: 0px 1px 2px rgba(60, 64, 67, 0.3), 0px 1px 3px 1px rgba(60, 64, 67, 0.15);\n",
              "      fill: #174EA6;\n",
              "    }\n",
              "\n",
              "    .colab-df-buttons div {\n",
              "      margin-bottom: 4px;\n",
              "    }\n",
              "\n",
              "    [theme=dark] .colab-df-convert {\n",
              "      background-color: #3B4455;\n",
              "      fill: #D2E3FC;\n",
              "    }\n",
              "\n",
              "    [theme=dark] .colab-df-convert:hover {\n",
              "      background-color: #434B5C;\n",
              "      box-shadow: 0px 1px 3px 1px rgba(0, 0, 0, 0.15);\n",
              "      filter: drop-shadow(0px 1px 2px rgba(0, 0, 0, 0.3));\n",
              "      fill: #FFFFFF;\n",
              "    }\n",
              "  </style>\n",
              "\n",
              "    <script>\n",
              "      const buttonEl =\n",
              "        document.querySelector('#df-6512fc40-93a7-45fd-ba8b-961e12f72590 button.colab-df-convert');\n",
              "      buttonEl.style.display =\n",
              "        google.colab.kernel.accessAllowed ? 'block' : 'none';\n",
              "\n",
              "      async function convertToInteractive(key) {\n",
              "        const element = document.querySelector('#df-6512fc40-93a7-45fd-ba8b-961e12f72590');\n",
              "        const dataTable =\n",
              "          await google.colab.kernel.invokeFunction('convertToInteractive',\n",
              "                                                    [key], {});\n",
              "        if (!dataTable) return;\n",
              "\n",
              "        const docLinkHtml = 'Like what you see? Visit the ' +\n",
              "          '<a target=\"_blank\" href=https://colab.research.google.com/notebooks/data_table.ipynb>data table notebook</a>'\n",
              "          + ' to learn more about interactive tables.';\n",
              "        element.innerHTML = '';\n",
              "        dataTable['output_type'] = 'display_data';\n",
              "        await google.colab.output.renderOutput(dataTable, element);\n",
              "        const docLink = document.createElement('div');\n",
              "        docLink.innerHTML = docLinkHtml;\n",
              "        element.appendChild(docLink);\n",
              "      }\n",
              "    </script>\n",
              "  </div>\n",
              "\n",
              "\n",
              "<div id=\"df-931a0365-749d-48ca-9154-daa98bbc3c4a\">\n",
              "  <button class=\"colab-df-quickchart\" onclick=\"quickchart('df-931a0365-749d-48ca-9154-daa98bbc3c4a')\"\n",
              "            title=\"Suggest charts\"\n",
              "            style=\"display:none;\">\n",
              "\n",
              "<svg xmlns=\"http://www.w3.org/2000/svg\" height=\"24px\"viewBox=\"0 0 24 24\"\n",
              "     width=\"24px\">\n",
              "    <g>\n",
              "        <path d=\"M19 3H5c-1.1 0-2 .9-2 2v14c0 1.1.9 2 2 2h14c1.1 0 2-.9 2-2V5c0-1.1-.9-2-2-2zM9 17H7v-7h2v7zm4 0h-2V7h2v10zm4 0h-2v-4h2v4z\"/>\n",
              "    </g>\n",
              "</svg>\n",
              "  </button>\n",
              "\n",
              "<style>\n",
              "  .colab-df-quickchart {\n",
              "      --bg-color: #E8F0FE;\n",
              "      --fill-color: #1967D2;\n",
              "      --hover-bg-color: #E2EBFA;\n",
              "      --hover-fill-color: #174EA6;\n",
              "      --disabled-fill-color: #AAA;\n",
              "      --disabled-bg-color: #DDD;\n",
              "  }\n",
              "\n",
              "  [theme=dark] .colab-df-quickchart {\n",
              "      --bg-color: #3B4455;\n",
              "      --fill-color: #D2E3FC;\n",
              "      --hover-bg-color: #434B5C;\n",
              "      --hover-fill-color: #FFFFFF;\n",
              "      --disabled-bg-color: #3B4455;\n",
              "      --disabled-fill-color: #666;\n",
              "  }\n",
              "\n",
              "  .colab-df-quickchart {\n",
              "    background-color: var(--bg-color);\n",
              "    border: none;\n",
              "    border-radius: 50%;\n",
              "    cursor: pointer;\n",
              "    display: none;\n",
              "    fill: var(--fill-color);\n",
              "    height: 32px;\n",
              "    padding: 0;\n",
              "    width: 32px;\n",
              "  }\n",
              "\n",
              "  .colab-df-quickchart:hover {\n",
              "    background-color: var(--hover-bg-color);\n",
              "    box-shadow: 0 1px 2px rgba(60, 64, 67, 0.3), 0 1px 3px 1px rgba(60, 64, 67, 0.15);\n",
              "    fill: var(--button-hover-fill-color);\n",
              "  }\n",
              "\n",
              "  .colab-df-quickchart-complete:disabled,\n",
              "  .colab-df-quickchart-complete:disabled:hover {\n",
              "    background-color: var(--disabled-bg-color);\n",
              "    fill: var(--disabled-fill-color);\n",
              "    box-shadow: none;\n",
              "  }\n",
              "\n",
              "  .colab-df-spinner {\n",
              "    border: 2px solid var(--fill-color);\n",
              "    border-color: transparent;\n",
              "    border-bottom-color: var(--fill-color);\n",
              "    animation:\n",
              "      spin 1s steps(1) infinite;\n",
              "  }\n",
              "\n",
              "  @keyframes spin {\n",
              "    0% {\n",
              "      border-color: transparent;\n",
              "      border-bottom-color: var(--fill-color);\n",
              "      border-left-color: var(--fill-color);\n",
              "    }\n",
              "    20% {\n",
              "      border-color: transparent;\n",
              "      border-left-color: var(--fill-color);\n",
              "      border-top-color: var(--fill-color);\n",
              "    }\n",
              "    30% {\n",
              "      border-color: transparent;\n",
              "      border-left-color: var(--fill-color);\n",
              "      border-top-color: var(--fill-color);\n",
              "      border-right-color: var(--fill-color);\n",
              "    }\n",
              "    40% {\n",
              "      border-color: transparent;\n",
              "      border-right-color: var(--fill-color);\n",
              "      border-top-color: var(--fill-color);\n",
              "    }\n",
              "    60% {\n",
              "      border-color: transparent;\n",
              "      border-right-color: var(--fill-color);\n",
              "    }\n",
              "    80% {\n",
              "      border-color: transparent;\n",
              "      border-right-color: var(--fill-color);\n",
              "      border-bottom-color: var(--fill-color);\n",
              "    }\n",
              "    90% {\n",
              "      border-color: transparent;\n",
              "      border-bottom-color: var(--fill-color);\n",
              "    }\n",
              "  }\n",
              "</style>\n",
              "\n",
              "  <script>\n",
              "    async function quickchart(key) {\n",
              "      const quickchartButtonEl =\n",
              "        document.querySelector('#' + key + ' button');\n",
              "      quickchartButtonEl.disabled = true;  // To prevent multiple clicks.\n",
              "      quickchartButtonEl.classList.add('colab-df-spinner');\n",
              "      try {\n",
              "        const charts = await google.colab.kernel.invokeFunction(\n",
              "            'suggestCharts', [key], {});\n",
              "      } catch (error) {\n",
              "        console.error('Error during call to suggestCharts:', error);\n",
              "      }\n",
              "      quickchartButtonEl.classList.remove('colab-df-spinner');\n",
              "      quickchartButtonEl.classList.add('colab-df-quickchart-complete');\n",
              "    }\n",
              "    (() => {\n",
              "      let quickchartButtonEl =\n",
              "        document.querySelector('#df-931a0365-749d-48ca-9154-daa98bbc3c4a button');\n",
              "      quickchartButtonEl.style.display =\n",
              "        google.colab.kernel.accessAllowed ? 'block' : 'none';\n",
              "    })();\n",
              "  </script>\n",
              "</div>\n",
              "\n",
              "    </div>\n",
              "  </div>\n"
            ],
            "application/vnd.google.colaboratory.intrinsic+json": {
              "type": "dataframe",
              "variable_name": "signal_df",
              "summary": "{\n  \"name\": \"signal_df\",\n  \"rows\": 1599,\n  \"fields\": [\n    {\n      \"column\": \"Parameter 1\",\n      \"properties\": {\n        \"dtype\": \"number\",\n        \"std\": 1.7410963181276953,\n        \"min\": 4.6,\n        \"max\": 15.9,\n        \"num_unique_values\": 96,\n        \"samples\": [\n          5.3,\n          12.7,\n          12.6\n        ],\n        \"semantic_type\": \"\",\n        \"description\": \"\"\n      }\n    },\n    {\n      \"column\": \"Parameter 2\",\n      \"properties\": {\n        \"dtype\": \"number\",\n        \"std\": 0.17905970415353537,\n        \"min\": 0.12,\n        \"max\": 1.58,\n        \"num_unique_values\": 143,\n        \"samples\": [\n          1.025,\n          0.4,\n          0.87\n        ],\n        \"semantic_type\": \"\",\n        \"description\": \"\"\n      }\n    },\n    {\n      \"column\": \"Parameter 3\",\n      \"properties\": {\n        \"dtype\": \"number\",\n        \"std\": 0.19480113740531857,\n        \"min\": 0.0,\n        \"max\": 1.0,\n        \"num_unique_values\": 80,\n        \"samples\": [\n          0.37,\n          0.0,\n          0.09\n        ],\n        \"semantic_type\": \"\",\n        \"description\": \"\"\n      }\n    },\n    {\n      \"column\": \"Parameter 4\",\n      \"properties\": {\n        \"dtype\": \"number\",\n        \"std\": 1.4099280595072798,\n        \"min\": 0.9,\n        \"max\": 15.5,\n        \"num_unique_values\": 91,\n        \"samples\": [\n          11.0,\n          3.0,\n          15.5\n        ],\n        \"semantic_type\": \"\",\n        \"description\": \"\"\n      }\n    },\n    {\n      \"column\": \"Parameter 5\",\n      \"properties\": {\n        \"dtype\": \"number\",\n        \"std\": 0.0470653020100901,\n        \"min\": 0.012,\n        \"max\": 0.611,\n        \"num_unique_values\": 153,\n        \"samples\": [\n          0.096,\n          0.343,\n          0.159\n        ],\n        \"semantic_type\": \"\",\n        \"description\": \"\"\n      }\n    },\n    {\n      \"column\": \"Parameter 6\",\n      \"properties\": {\n        \"dtype\": \"number\",\n        \"std\": 10.460156969809725,\n        \"min\": 1.0,\n        \"max\": 72.0,\n        \"num_unique_values\": 60,\n        \"samples\": [\n          11.0,\n          9.0,\n          32.0\n        ],\n        \"semantic_type\": \"\",\n        \"description\": \"\"\n      }\n    },\n    {\n      \"column\": \"Parameter 7\",\n      \"properties\": {\n        \"dtype\": \"number\",\n        \"std\": 32.895324478299074,\n        \"min\": 6.0,\n        \"max\": 289.0,\n        \"num_unique_values\": 144,\n        \"samples\": [\n          68.0,\n          35.0,\n          101.0\n        ],\n        \"semantic_type\": \"\",\n        \"description\": \"\"\n      }\n    },\n    {\n      \"column\": \"Parameter 8\",\n      \"properties\": {\n        \"dtype\": \"number\",\n        \"std\": 0.0018873339538425554,\n        \"min\": 0.99007,\n        \"max\": 1.00369,\n        \"num_unique_values\": 436,\n        \"samples\": [\n          0.99974,\n          1.0001,\n          0.99471\n        ],\n        \"semantic_type\": \"\",\n        \"description\": \"\"\n      }\n    },\n    {\n      \"column\": \"Parameter 9\",\n      \"properties\": {\n        \"dtype\": \"number\",\n        \"std\": 0.15438646490354277,\n        \"min\": 2.74,\n        \"max\": 4.01,\n        \"num_unique_values\": 89,\n        \"samples\": [\n          3.07,\n          3.0,\n          3.15\n        ],\n        \"semantic_type\": \"\",\n        \"description\": \"\"\n      }\n    },\n    {\n      \"column\": \"Parameter 10\",\n      \"properties\": {\n        \"dtype\": \"number\",\n        \"std\": 0.16950697959010996,\n        \"min\": 0.33,\n        \"max\": 2.0,\n        \"num_unique_values\": 96,\n        \"samples\": [\n          1.07,\n          1.04,\n          1.18\n        ],\n        \"semantic_type\": \"\",\n        \"description\": \"\"\n      }\n    },\n    {\n      \"column\": \"Parameter 11\",\n      \"properties\": {\n        \"dtype\": \"number\",\n        \"std\": 1.0656675818563988,\n        \"min\": 8.4,\n        \"max\": 14.9,\n        \"num_unique_values\": 65,\n        \"samples\": [\n          8.5,\n          9.95,\n          9.4\n        ],\n        \"semantic_type\": \"\",\n        \"description\": \"\"\n      }\n    },\n    {\n      \"column\": \"Signal_Strength\",\n      \"properties\": {\n        \"dtype\": \"number\",\n        \"std\": 0,\n        \"min\": 3,\n        \"max\": 8,\n        \"num_unique_values\": 6,\n        \"samples\": [\n          5,\n          6,\n          3\n        ],\n        \"semantic_type\": \"\",\n        \"description\": \"\"\n      }\n    }\n  ]\n}"
            }
          },
          "metadata": {},
          "execution_count": 5
        }
      ]
    },
    {
      "cell_type": "code",
      "source": [
        "# 1.1B-\n",
        "\n",
        "missing_values = signal_df.isnull().sum()\n",
        "\n",
        "percentage_missing = (missing_values / len(signal_df)) * 100\n",
        "print(percentage_missing)"
      ],
      "metadata": {
        "colab": {
          "base_uri": "https://localhost:8080/"
        },
        "id": "xMPUQe20gD6V",
        "outputId": "3cd05a17-2f9e-45b5-c0a1-8c01a2e50e2d"
      },
      "execution_count": null,
      "outputs": [
        {
          "output_type": "stream",
          "name": "stdout",
          "text": [
            "Parameter 1        0.0\n",
            "Parameter 2        0.0\n",
            "Parameter 3        0.0\n",
            "Parameter 4        0.0\n",
            "Parameter 5        0.0\n",
            "Parameter 6        0.0\n",
            "Parameter 7        0.0\n",
            "Parameter 8        0.0\n",
            "Parameter 9        0.0\n",
            "Parameter 10       0.0\n",
            "Parameter 11       0.0\n",
            "Signal_Strength    0.0\n",
            "dtype: float64\n"
          ]
        }
      ]
    },
    {
      "cell_type": "code",
      "source": [
        "# 1.1C-\n",
        "\n",
        "duplicate_rows = signal_df.duplicated().sum()\n",
        "if duplicate_rows > 0:\n",
        "\n",
        "    signal_df = signal_df.drop_duplicates()\n",
        "    print(\"Duplicate records removed.\")\n",
        "else:\n",
        "    print(\"No duplicate records found.\")"
      ],
      "metadata": {
        "colab": {
          "base_uri": "https://localhost:8080/"
        },
        "id": "p6zA4vjZgVeb",
        "outputId": "d75c06c5-096f-41d5-e3c3-3e7e754f26df"
      },
      "execution_count": null,
      "outputs": [
        {
          "output_type": "stream",
          "name": "stdout",
          "text": [
            "Duplicate records removed.\n"
          ]
        }
      ]
    },
    {
      "cell_type": "code",
      "source": [
        "# 1.1D--\n",
        "\n",
        "plt.figure(figsize=(8, 6))\n",
        "sns.countplot(x='Signal_Strength', data=signal_df)\n",
        "plt.title('Distribution of Signal Strength')\n",
        "plt.xlabel('Signal Strength')\n",
        "plt.ylabel('Count')\n",
        "plt.show()"
      ],
      "metadata": {
        "colab": {
          "base_uri": "https://localhost:8080/",
          "height": 564
        },
        "id": "jcan9rQagfey",
        "outputId": "baa22481-d577-485e-f15a-8d2188d98a8f"
      },
      "execution_count": null,
      "outputs": [
        {
          "output_type": "display_data",
          "data": {
            "text/plain": [
              "<Figure size 800x600 with 1 Axes>"
            ],
            "image/png": "[encoded data removed]"
          },
          "metadata": {}
        }
      ]
    },
    {
      "cell_type": "code",
      "source": [
        "# 1.1E--\n",
        "\n",
        "# Parameter 5 and 6 have signals with strengths exceeding 500, indicating their significant impact on signal quality.\n",
        "# No missing values were found in the dataset across all parameters and the target variable.\n",
        "# No duplicate records were detected in the dataset, indicating data cleanliness.\n",
        "# The distribution of signal strengths in the dataset varies, as shown by the count plot. This suggests that the dataset contains samples across different signal strength categories,\n",
        "#  which is important for training a classifier.\n",
        "# The parameters exhibit varying ranges and distributions, as indicated by their summary statistics."
      ],
      "metadata": {
        "id": "5lglKpzgvYXj"
      },
      "execution_count": null,
      "outputs": []
    },
    {
      "cell_type": "code",
      "source": [
        "# 1.2A & B---\n",
        "\n",
        "from sklearn.model_selection import train_test_split\n",
        "\n",
        "X = signal_df.drop(columns=['Signal_Strength'])\n",
        "Y = signal_df['Signal_Strength']\n",
        "\n",
        "X_train, X_test, Y_train, Y_test = train_test_split(X, Y, test_size=0.3, random_state=42)"
      ],
      "metadata": {
        "id": "Qlsdluh9vhtV"
      },
      "execution_count": null,
      "outputs": []
    },
    {
      "cell_type": "code",
      "source": [
        "# 1.2C---\n",
        "\n",
        "print(\"Shape of X_train:\", X_train.shape)\n",
        "print(\"Shape of X_test:\", X_test.shape)\n",
        "print(\"Shape of Y_train:\", Y_train.shape)\n",
        "print(\"Shape of Y_test:\", Y_test.shape)\n",
        "\n",
        "train_test_sync = (X_train.shape[0] == Y_train.shape[0]) and (X_test.shape[0] == Y_test.shape[0])\n",
        "print(\"\\nTrain and test data are in sync:\", train_test_sync)"
      ],
      "metadata": {
        "colab": {
          "base_uri": "https://localhost:8080/"
        },
        "id": "lnpOdvpqwsEv",
        "outputId": "fa10b314-5bd1-4289-ee16-3520da582410"
      },
      "execution_count": null,
      "outputs": [
        {
          "output_type": "stream",
          "name": "stdout",
          "text": [
            "Shape of X_train: (951, 11)\n",
            "Shape of X_test: (408, 11)\n",
            "Shape of Y_train: (951,)\n",
            "Shape of Y_test: (408,)\n",
            "\n",
            "Train and test data are in sync: True\n"
          ]
        }
      ]
    },
    {
      "cell_type": "code",
      "source": [
        "# 1.2D--\n",
        "\n",
        "from sklearn.preprocessing import StandardScaler\n",
        "\n",
        "scaler = StandardScaler()\n",
        "\n",
        "X_train_normalized = scaler.fit_transform(X_train)\n",
        "X_test_normalized = scaler.transform(X_test)"
      ],
      "metadata": {
        "id": "2DHuTSxbzDk_"
      },
      "execution_count": null,
      "outputs": []
    },
    {
      "cell_type": "code",
      "source": [
        "# 1.2E---\n",
        "\n",
        "from keras.utils import to_categorical\n",
        "\n",
        "Y_train_encoded = to_categorical(Y_train)\n",
        "Y_test_encoded = to_categorical(Y_test)"
      ],
      "metadata": {
        "id": "MFnrSJ-lxDA9"
      },
      "execution_count": null,
      "outputs": []
    },
    {
      "cell_type": "code",
      "source": [
        "# 1.3A---\n",
        "\n",
        "from keras.models import Sequential\n",
        "from keras.layers import Dense, Dropout\n",
        "\n",
        "model = Sequential()\n",
        "\n",
        "model.add(Dense(64, input_shape=(11,), activation='relu'))\n",
        "model.add(Dropout(0.2))\n",
        "\n",
        "model.add(Dense(9, activation='softmax'))\n",
        "\n",
        "model.compile(optimizer='adam', loss='categorical_crossentropy', metrics=['accuracy'])\n",
        "\n",
        "model.summary()"
      ],
      "metadata": {
        "colab": {
          "base_uri": "https://localhost:8080/"
        },
        "id": "Ugh4_XPmx-OX",
        "outputId": "f3cce9f5-3368-46f5-9d06-3245874a3fa2"
      },
      "execution_count": null,
      "outputs": [
        {
          "output_type": "stream",
          "name": "stdout",
          "text": [
            "Model: \"sequential\"\n",
            "_________________________________________________________________\n",
            " Layer (type)                Output Shape              Param #   \n",
            "=================================================================\n",
            " dense (Dense)               (None, 64)                768       \n",
            "                                                                 \n",
            " dropout (Dropout)           (None, 64)                0         \n",
            "                                                                 \n",
            " dense_1 (Dense)             (None, 9)                 585       \n",
            "                                                                 \n",
            "=================================================================\n",
            "Total params: 1353 (5.29 KB)\n",
            "Trainable params: 1353 (5.29 KB)\n",
            "Non-trainable params: 0 (0.00 Byte)\n",
            "_________________________________________________________________\n"
          ]
        }
      ]
    },
    {
      "cell_type": "code",
      "source": [
        "# 1.3B---\n",
        "\n",
        "# Train the classifier\n",
        "history = model.fit(X_train_normalized, Y_train_encoded,\n",
        "                    batch_size=32,\n",
        "                    epochs=50,\n",
        "                    validation_data=(X_test_normalized, Y_test_encoded))\n",
        "\n",
        "train_accuracy = history.history['accuracy'][-1]\n",
        "val_accuracy = history.history['val_accuracy'][-1]\n",
        "print(f'Training Accuracy: {train_accuracy:.4f}')\n",
        "print(f'Validation Accuracy: {val_accuracy:.4f}')"
      ],
      "metadata": {
        "colab": {
          "base_uri": "https://localhost:8080/"
        },
        "id": "O_1h8XNyyL8V",
        "outputId": "43ba9989-ecd6-480a-a4ee-ffc77d7a1b8c"
      },
      "execution_count": null,
      "outputs": [
        {
          "output_type": "stream",
          "name": "stdout",
          "text": [
            "Epoch 1/50\n",
            "30/30 [==============================] - 1s 12ms/step - loss: 2.0784 - accuracy: 0.2334 - val_loss: 1.7627 - val_accuracy: 0.4877\n",
            "Epoch 2/50\n",
            "30/30 [==============================] - 0s 4ms/step - loss: 1.6186 - accuracy: 0.4900 - val_loss: 1.4233 - val_accuracy: 0.5588\n",
            "Epoch 3/50\n",
            "30/30 [==============================] - 0s 3ms/step - loss: 1.3733 - accuracy: 0.5216 - val_loss: 1.2436 - val_accuracy: 0.5882\n",
            "Epoch 4/50\n",
            "30/30 [==============================] - 0s 3ms/step - loss: 1.2357 - accuracy: 0.5584 - val_loss: 1.1485 - val_accuracy: 0.5931\n",
            "Epoch 5/50\n",
            "30/30 [==============================] - 0s 4ms/step - loss: 1.1544 - accuracy: 0.5647 - val_loss: 1.0957 - val_accuracy: 0.6029\n",
            "Epoch 6/50\n",
            "30/30 [==============================] - 0s 4ms/step - loss: 1.1120 - accuracy: 0.5689 - val_loss: 1.0600 - val_accuracy: 0.6152\n",
            "Epoch 7/50\n",
            "30/30 [==============================] - 0s 4ms/step - loss: 1.0837 - accuracy: 0.5889 - val_loss: 1.0363 - val_accuracy: 0.6127\n",
            "Epoch 8/50\n",
            "30/30 [==============================] - 0s 4ms/step - loss: 1.0597 - accuracy: 0.5878 - val_loss: 1.0202 - val_accuracy: 0.6176\n",
            "Epoch 9/50\n",
            "30/30 [==============================] - 0s 4ms/step - loss: 1.0534 - accuracy: 0.5762 - val_loss: 1.0089 - val_accuracy: 0.6176\n",
            "Epoch 10/50\n",
            "30/30 [==============================] - 0s 4ms/step - loss: 1.0340 - accuracy: 0.5815 - val_loss: 1.0008 - val_accuracy: 0.6054\n",
            "Epoch 11/50\n",
            "30/30 [==============================] - 0s 3ms/step - loss: 1.0263 - accuracy: 0.5941 - val_loss: 0.9909 - val_accuracy: 0.6152\n",
            "Epoch 12/50\n",
            "30/30 [==============================] - 0s 6ms/step - loss: 1.0200 - accuracy: 0.5941 - val_loss: 0.9879 - val_accuracy: 0.6078\n",
            "Epoch 13/50\n",
            "30/30 [==============================] - 0s 5ms/step - loss: 1.0136 - accuracy: 0.5804 - val_loss: 0.9797 - val_accuracy: 0.6054\n",
            "Epoch 14/50\n",
            "30/30 [==============================] - 0s 3ms/step - loss: 0.9964 - accuracy: 0.5846 - val_loss: 0.9776 - val_accuracy: 0.6005\n",
            "Epoch 15/50\n",
            "30/30 [==============================] - 0s 4ms/step - loss: 0.9986 - accuracy: 0.5836 - val_loss: 0.9725 - val_accuracy: 0.5980\n",
            "Epoch 16/50\n",
            "30/30 [==============================] - 0s 4ms/step - loss: 0.9840 - accuracy: 0.5994 - val_loss: 0.9697 - val_accuracy: 0.5956\n",
            "Epoch 17/50\n",
            "30/30 [==============================] - 0s 4ms/step - loss: 0.9844 - accuracy: 0.5910 - val_loss: 0.9669 - val_accuracy: 0.5956\n",
            "Epoch 18/50\n",
            "30/30 [==============================] - 0s 4ms/step - loss: 0.9697 - accuracy: 0.6025 - val_loss: 0.9680 - val_accuracy: 0.6054\n",
            "Epoch 19/50\n",
            "30/30 [==============================] - 0s 4ms/step - loss: 0.9751 - accuracy: 0.5889 - val_loss: 0.9644 - val_accuracy: 0.5956\n",
            "Epoch 20/50\n",
            "30/30 [==============================] - 0s 4ms/step - loss: 0.9520 - accuracy: 0.6088 - val_loss: 0.9632 - val_accuracy: 0.5980\n",
            "Epoch 21/50\n",
            "30/30 [==============================] - 0s 4ms/step - loss: 0.9616 - accuracy: 0.6004 - val_loss: 0.9599 - val_accuracy: 0.5980\n",
            "Epoch 22/50\n",
            "30/30 [==============================] - 0s 4ms/step - loss: 0.9564 - accuracy: 0.5973 - val_loss: 0.9567 - val_accuracy: 0.6054\n",
            "Epoch 23/50\n",
            "30/30 [==============================] - 0s 3ms/step - loss: 0.9514 - accuracy: 0.5952 - val_loss: 0.9576 - val_accuracy: 0.5956\n",
            "Epoch 24/50\n",
            "30/30 [==============================] - 0s 4ms/step - loss: 0.9462 - accuracy: 0.5941 - val_loss: 0.9539 - val_accuracy: 0.5956\n",
            "Epoch 25/50\n",
            "30/30 [==============================] - 0s 4ms/step - loss: 0.9346 - accuracy: 0.6057 - val_loss: 0.9542 - val_accuracy: 0.6029\n",
            "Epoch 26/50\n",
            "30/30 [==============================] - 0s 3ms/step - loss: 0.9319 - accuracy: 0.6078 - val_loss: 0.9522 - val_accuracy: 0.6103\n",
            "Epoch 27/50\n",
            "30/30 [==============================] - 0s 3ms/step - loss: 0.9379 - accuracy: 0.5920 - val_loss: 0.9503 - val_accuracy: 0.6201\n",
            "Epoch 28/50\n",
            "30/30 [==============================] - 0s 4ms/step - loss: 0.9315 - accuracy: 0.6004 - val_loss: 0.9476 - val_accuracy: 0.6225\n",
            "Epoch 29/50\n",
            "30/30 [==============================] - 0s 3ms/step - loss: 0.9304 - accuracy: 0.6151 - val_loss: 0.9477 - val_accuracy: 0.6078\n",
            "Epoch 30/50\n",
            "30/30 [==============================] - 0s 3ms/step - loss: 0.9452 - accuracy: 0.5973 - val_loss: 0.9500 - val_accuracy: 0.6250\n",
            "Epoch 31/50\n",
            "30/30 [==============================] - 0s 4ms/step - loss: 0.9364 - accuracy: 0.5962 - val_loss: 0.9481 - val_accuracy: 0.6250\n",
            "Epoch 32/50\n",
            "30/30 [==============================] - 0s 3ms/step - loss: 0.9315 - accuracy: 0.6109 - val_loss: 0.9479 - val_accuracy: 0.6176\n",
            "Epoch 33/50\n",
            "30/30 [==============================] - 0s 3ms/step - loss: 0.9274 - accuracy: 0.6036 - val_loss: 0.9460 - val_accuracy: 0.6201\n",
            "Epoch 34/50\n",
            "30/30 [==============================] - 0s 4ms/step - loss: 0.9154 - accuracy: 0.6257 - val_loss: 0.9465 - val_accuracy: 0.6250\n",
            "Epoch 35/50\n",
            "30/30 [==============================] - 0s 3ms/step - loss: 0.9135 - accuracy: 0.6267 - val_loss: 0.9429 - val_accuracy: 0.6299\n",
            "Epoch 36/50\n",
            "30/30 [==============================] - 0s 3ms/step - loss: 0.9191 - accuracy: 0.6130 - val_loss: 0.9453 - val_accuracy: 0.6127\n",
            "Epoch 37/50\n",
            "30/30 [==============================] - 0s 4ms/step - loss: 0.9212 - accuracy: 0.6088 - val_loss: 0.9425 - val_accuracy: 0.6324\n",
            "Epoch 38/50\n",
            "30/30 [==============================] - 0s 3ms/step - loss: 0.9104 - accuracy: 0.6351 - val_loss: 0.9452 - val_accuracy: 0.6127\n",
            "Epoch 39/50\n",
            "30/30 [==============================] - 0s 3ms/step - loss: 0.9125 - accuracy: 0.6183 - val_loss: 0.9428 - val_accuracy: 0.6225\n",
            "Epoch 40/50\n",
            "30/30 [==============================] - 0s 3ms/step - loss: 0.8996 - accuracy: 0.6278 - val_loss: 0.9418 - val_accuracy: 0.6225\n",
            "Epoch 41/50\n",
            "30/30 [==============================] - 0s 4ms/step - loss: 0.9136 - accuracy: 0.6193 - val_loss: 0.9434 - val_accuracy: 0.6201\n",
            "Epoch 42/50\n",
            "30/30 [==============================] - 0s 3ms/step - loss: 0.8982 - accuracy: 0.6246 - val_loss: 0.9419 - val_accuracy: 0.6201\n",
            "Epoch 43/50\n",
            "30/30 [==============================] - 0s 3ms/step - loss: 0.8948 - accuracy: 0.6215 - val_loss: 0.9435 - val_accuracy: 0.6176\n",
            "Epoch 44/50\n",
            "30/30 [==============================] - 0s 3ms/step - loss: 0.8950 - accuracy: 0.6088 - val_loss: 0.9387 - val_accuracy: 0.6176\n",
            "Epoch 45/50\n",
            "30/30 [==============================] - 0s 3ms/step - loss: 0.8925 - accuracy: 0.6257 - val_loss: 0.9404 - val_accuracy: 0.6127\n",
            "Epoch 46/50\n",
            "30/30 [==============================] - 0s 3ms/step - loss: 0.8968 - accuracy: 0.6257 - val_loss: 0.9448 - val_accuracy: 0.6127\n",
            "Epoch 47/50\n",
            "30/30 [==============================] - 0s 4ms/step - loss: 0.8794 - accuracy: 0.6109 - val_loss: 0.9427 - val_accuracy: 0.6152\n",
            "Epoch 48/50\n",
            "30/30 [==============================] - 0s 3ms/step - loss: 0.8899 - accuracy: 0.6341 - val_loss: 0.9410 - val_accuracy: 0.6127\n",
            "Epoch 49/50\n",
            "30/30 [==============================] - 0s 3ms/step - loss: 0.8854 - accuracy: 0.6236 - val_loss: 0.9417 - val_accuracy: 0.6201\n",
            "Epoch 50/50\n",
            "30/30 [==============================] - 0s 5ms/step - loss: 0.8892 - accuracy: 0.6257 - val_loss: 0.9446 - val_accuracy: 0.6201\n",
            "Training Accuracy: 0.6257\n",
            "Validation Accuracy: 0.6201\n"
          ]
        }
      ]
    },
    {
      "cell_type": "code",
      "source": [
        "# 1.3C---\n",
        "\n",
        "import matplotlib.pyplot as plt\n",
        "\n",
        "# Plot training loss and validation loss\n",
        "plt.figure(figsize=(12, 5))\n",
        "plt.subplot(1, 2, 1)\n",
        "plt.plot(history.history['loss'], label='Training Loss')\n",
        "plt.plot(history.history['val_loss'], label='Validation Loss')\n",
        "plt.title('Training and Validation Loss')\n",
        "plt.xlabel('Epoch')\n",
        "plt.ylabel('Loss')\n",
        "plt.legend()\n",
        "\n",
        "# Plot training accuracy and validation accuracy\n",
        "plt.subplot(1, 2, 2)\n",
        "plt.plot(history.history['accuracy'], label='Training Accuracy')\n",
        "plt.plot(history.history['val_accuracy'], label='Validation Accuracy')\n",
        "plt.title('Training and Validation Accuracy')\n",
        "plt.xlabel('Epoch')\n",
        "plt.ylabel('Accuracy')\n",
        "plt.legend()\n",
        "\n",
        "plt.tight_layout()\n",
        "plt.show()\n"
      ],
      "metadata": {
        "colab": {
          "base_uri": "https://localhost:8080/",
          "height": 507
        },
        "id": "TiJo3VvkykDB",
        "outputId": "da7e4775-03c0-4606-978a-2cfb97b6413f"
      },
      "execution_count": null,
      "outputs": [
        {
          "output_type": "display_data",
          "data": {
            "text/plain": [
              "<Figure size 1200x500 with 2 Axes>"
            ],
            "image/png": "[encoded data removed]"
          },
          "metadata": {}
        }
      ]
    },
    {
      "cell_type": "code",
      "source": [
        "# 1.3D---\n",
        "\n",
        "from keras.models import Sequential\n",
        "from keras.layers import Dense, Dropout\n",
        "from keras.optimizers import Adam\n",
        "\n",
        "# Initialize the neural network model\n",
        "model1 = Sequential()\n",
        "\n",
        "# Add input layer and hidden layers\n",
        "model1.add(Dense(128, input_shape=(11,), activation='relu'))  # Increase number of neurons\n",
        "model1.add(Dropout(0.3))  # Add dropout layer to prevent overfitting\n",
        "model1.add(Dense(64, activation='relu'))  # Add another hidden layer\n",
        "model1.add(Dropout(0.3))  # Add dropout layer\n",
        "model1.add(Dense(32, activation='relu'))  # Add another hidden layer\n",
        "model1.add(Dropout(0.3))  # Add dropout layer\n",
        "\n",
        "# Add output layer\n",
        "model1.add(Dense(9, activation='softmax'))  # Output layer with softmax activation for multi-class classification\n",
        "\n",
        "# Compile the model\n",
        "model1.compile(optimizer=Adam(learning_rate=0.001), loss='categorical_crossentropy', metrics=['accuracy'])\n",
        "\n",
        "# Print the model summary\n",
        "model1.summary()\n",
        "\n",
        "# Train the updated model\n",
        "history1 = model1.fit(X_train_normalized, Y_train_encoded,\n",
        "                       batch_size=32,\n",
        "                       epochs=50,\n",
        "                       validation_data=(X_test_normalized, Y_test_encoded))\n"
      ],
      "metadata": {
        "colab": {
          "base_uri": "https://localhost:8080/"
        },
        "id": "PEUdgK0Mz2Nl",
        "outputId": "3450e81c-610b-47df-b3a7-b3e0aea13306"
      },
      "execution_count": null,
      "outputs": [
        {
          "output_type": "stream",
          "name": "stdout",
          "text": [
            "Model: \"sequential_1\"\n",
            "_________________________________________________________________\n",
            " Layer (type)                Output Shape              Param #   \n",
            "=================================================================\n",
            " dense_2 (Dense)             (None, 128)               1536      \n",
            "                                                                 \n",
            " dropout_1 (Dropout)         (None, 128)               0         \n",
            "                                                                 \n",
            " dense_3 (Dense)             (None, 64)                8256      \n",
            "                                                                 \n",
            " dropout_2 (Dropout)         (None, 64)                0         \n",
            "                                                                 \n",
            " dense_4 (Dense)             (None, 32)                2080      \n",
            "                                                                 \n",
            " dropout_3 (Dropout)         (None, 32)                0         \n",
            "                                                                 \n",
            " dense_5 (Dense)             (None, 9)                 297       \n",
            "                                                                 \n",
            "=================================================================\n",
            "Total params: 12169 (47.54 KB)\n",
            "Trainable params: 12169 (47.54 KB)\n",
            "Non-trainable params: 0 (0.00 Byte)\n",
            "_________________________________________________________________\n",
            "Epoch 1/50\n",
            "30/30 [==============================] - 1s 10ms/step - loss: 1.7836 - accuracy: 0.3628 - val_loss: 1.3770 - val_accuracy: 0.4583\n",
            "Epoch 2/50\n",
            "30/30 [==============================] - 0s 5ms/step - loss: 1.4059 - accuracy: 0.4805 - val_loss: 1.1669 - val_accuracy: 0.5441\n",
            "Epoch 3/50\n",
            "30/30 [==============================] - 0s 4ms/step - loss: 1.2671 - accuracy: 0.5110 - val_loss: 1.0795 - val_accuracy: 0.5907\n",
            "Epoch 4/50\n",
            "30/30 [==============================] - 0s 4ms/step - loss: 1.1960 - accuracy: 0.5163 - val_loss: 1.0410 - val_accuracy: 0.5907\n",
            "Epoch 5/50\n",
            "30/30 [==============================] - 0s 4ms/step - loss: 1.1587 - accuracy: 0.5394 - val_loss: 1.0195 - val_accuracy: 0.6005\n",
            "Epoch 6/50\n",
            "30/30 [==============================] - 0s 4ms/step - loss: 1.1221 - accuracy: 0.5594 - val_loss: 1.0018 - val_accuracy: 0.5858\n",
            "Epoch 7/50\n",
            "30/30 [==============================] - 0s 4ms/step - loss: 1.1148 - accuracy: 0.5384 - val_loss: 0.9908 - val_accuracy: 0.5931\n",
            "Epoch 8/50\n",
            "30/30 [==============================] - 0s 4ms/step - loss: 1.1166 - accuracy: 0.5384 - val_loss: 0.9829 - val_accuracy: 0.5931\n",
            "Epoch 9/50\n",
            "30/30 [==============================] - 0s 4ms/step - loss: 1.0948 - accuracy: 0.5447 - val_loss: 0.9775 - val_accuracy: 0.5882\n",
            "Epoch 10/50\n",
            "30/30 [==============================] - 0s 4ms/step - loss: 1.0820 - accuracy: 0.5741 - val_loss: 0.9673 - val_accuracy: 0.5907\n",
            "Epoch 11/50\n",
            "30/30 [==============================] - 0s 4ms/step - loss: 1.0676 - accuracy: 0.5647 - val_loss: 0.9648 - val_accuracy: 0.6127\n",
            "Epoch 12/50\n",
            "30/30 [==============================] - 0s 4ms/step - loss: 1.0570 - accuracy: 0.5489 - val_loss: 0.9651 - val_accuracy: 0.6127\n",
            "Epoch 13/50\n",
            "30/30 [==============================] - 0s 4ms/step - loss: 1.0424 - accuracy: 0.5531 - val_loss: 0.9609 - val_accuracy: 0.6078\n",
            "Epoch 14/50\n",
            "30/30 [==============================] - 0s 5ms/step - loss: 1.0349 - accuracy: 0.5720 - val_loss: 0.9540 - val_accuracy: 0.6103\n",
            "Epoch 15/50\n",
            "30/30 [==============================] - 0s 4ms/step - loss: 1.0409 - accuracy: 0.5647 - val_loss: 0.9563 - val_accuracy: 0.6127\n",
            "Epoch 16/50\n",
            "30/30 [==============================] - 0s 4ms/step - loss: 1.0182 - accuracy: 0.5783 - val_loss: 0.9516 - val_accuracy: 0.6250\n",
            "Epoch 17/50\n",
            "30/30 [==============================] - 0s 4ms/step - loss: 1.0113 - accuracy: 0.5647 - val_loss: 0.9499 - val_accuracy: 0.6201\n",
            "Epoch 18/50\n",
            "30/30 [==============================] - 0s 4ms/step - loss: 1.0198 - accuracy: 0.5605 - val_loss: 0.9474 - val_accuracy: 0.6225\n",
            "Epoch 19/50\n",
            "30/30 [==============================] - 0s 4ms/step - loss: 1.0153 - accuracy: 0.5773 - val_loss: 0.9414 - val_accuracy: 0.6201\n",
            "Epoch 20/50\n",
            "30/30 [==============================] - 0s 4ms/step - loss: 1.0054 - accuracy: 0.5720 - val_loss: 0.9372 - val_accuracy: 0.6324\n",
            "Epoch 21/50\n",
            "30/30 [==============================] - 0s 4ms/step - loss: 0.9930 - accuracy: 0.5741 - val_loss: 0.9342 - val_accuracy: 0.6250\n",
            "Epoch 22/50\n",
            "30/30 [==============================] - 0s 6ms/step - loss: 0.9757 - accuracy: 0.5752 - val_loss: 0.9377 - val_accuracy: 0.6225\n",
            "Epoch 23/50\n",
            "30/30 [==============================] - 0s 4ms/step - loss: 0.9853 - accuracy: 0.5825 - val_loss: 0.9365 - val_accuracy: 0.6127\n",
            "Epoch 24/50\n",
            "30/30 [==============================] - 0s 4ms/step - loss: 0.9794 - accuracy: 0.5878 - val_loss: 0.9355 - val_accuracy: 0.6127\n",
            "Epoch 25/50\n",
            "30/30 [==============================] - 0s 4ms/step - loss: 0.9744 - accuracy: 0.5889 - val_loss: 0.9330 - val_accuracy: 0.6250\n",
            "Epoch 26/50\n",
            "30/30 [==============================] - 0s 4ms/step - loss: 0.9724 - accuracy: 0.5720 - val_loss: 0.9377 - val_accuracy: 0.6005\n",
            "Epoch 27/50\n",
            "30/30 [==============================] - 0s 4ms/step - loss: 0.9709 - accuracy: 0.5931 - val_loss: 0.9262 - val_accuracy: 0.6324\n",
            "Epoch 28/50\n",
            "30/30 [==============================] - 0s 4ms/step - loss: 0.9601 - accuracy: 0.5878 - val_loss: 0.9275 - val_accuracy: 0.6225\n",
            "Epoch 29/50\n",
            "30/30 [==============================] - 0s 4ms/step - loss: 0.9619 - accuracy: 0.5868 - val_loss: 0.9303 - val_accuracy: 0.6078\n",
            "Epoch 30/50\n",
            "30/30 [==============================] - 0s 5ms/step - loss: 0.9467 - accuracy: 0.5941 - val_loss: 0.9273 - val_accuracy: 0.6250\n",
            "Epoch 31/50\n",
            "30/30 [==============================] - 0s 4ms/step - loss: 0.9439 - accuracy: 0.5857 - val_loss: 0.9316 - val_accuracy: 0.6373\n",
            "Epoch 32/50\n",
            "30/30 [==============================] - 0s 4ms/step - loss: 0.9338 - accuracy: 0.6046 - val_loss: 0.9249 - val_accuracy: 0.6078\n",
            "Epoch 33/50\n",
            "30/30 [==============================] - 0s 4ms/step - loss: 0.9426 - accuracy: 0.6015 - val_loss: 0.9208 - val_accuracy: 0.6324\n",
            "Epoch 34/50\n",
            "30/30 [==============================] - 0s 5ms/step - loss: 0.9533 - accuracy: 0.5815 - val_loss: 0.9255 - val_accuracy: 0.6324\n",
            "Epoch 35/50\n",
            "30/30 [==============================] - 0s 8ms/step - loss: 0.9481 - accuracy: 0.5931 - val_loss: 0.9227 - val_accuracy: 0.6275\n",
            "Epoch 36/50\n",
            "30/30 [==============================] - 0s 7ms/step - loss: 0.9468 - accuracy: 0.6078 - val_loss: 0.9269 - val_accuracy: 0.6299\n",
            "Epoch 37/50\n",
            "30/30 [==============================] - 0s 4ms/step - loss: 0.9433 - accuracy: 0.6046 - val_loss: 0.9375 - val_accuracy: 0.6152\n",
            "Epoch 38/50\n",
            "30/30 [==============================] - 0s 4ms/step - loss: 0.9510 - accuracy: 0.5846 - val_loss: 0.9401 - val_accuracy: 0.6225\n",
            "Epoch 39/50\n",
            "30/30 [==============================] - 0s 4ms/step - loss: 0.9075 - accuracy: 0.6036 - val_loss: 0.9270 - val_accuracy: 0.6250\n",
            "Epoch 40/50\n",
            "30/30 [==============================] - 0s 4ms/step - loss: 0.9280 - accuracy: 0.6025 - val_loss: 0.9280 - val_accuracy: 0.6373\n",
            "Epoch 41/50\n",
            "30/30 [==============================] - 0s 4ms/step - loss: 0.9535 - accuracy: 0.5836 - val_loss: 0.9378 - val_accuracy: 0.6127\n",
            "Epoch 42/50\n",
            "30/30 [==============================] - 0s 4ms/step - loss: 0.9174 - accuracy: 0.5994 - val_loss: 0.9247 - val_accuracy: 0.6225\n",
            "Epoch 43/50\n",
            "30/30 [==============================] - 0s 4ms/step - loss: 0.9464 - accuracy: 0.5941 - val_loss: 0.9221 - val_accuracy: 0.6250\n",
            "Epoch 44/50\n",
            "30/30 [==============================] - 0s 4ms/step - loss: 0.9176 - accuracy: 0.6067 - val_loss: 0.9286 - val_accuracy: 0.6078\n",
            "Epoch 45/50\n",
            "30/30 [==============================] - 0s 4ms/step - loss: 0.9019 - accuracy: 0.6067 - val_loss: 0.9283 - val_accuracy: 0.6176\n",
            "Epoch 46/50\n",
            "30/30 [==============================] - 0s 4ms/step - loss: 0.9019 - accuracy: 0.6025 - val_loss: 0.9238 - val_accuracy: 0.6250\n",
            "Epoch 47/50\n",
            "30/30 [==============================] - 0s 4ms/step - loss: 0.8965 - accuracy: 0.5899 - val_loss: 0.9305 - val_accuracy: 0.6225\n",
            "Epoch 48/50\n",
            "30/30 [==============================] - 0s 4ms/step - loss: 0.9163 - accuracy: 0.5983 - val_loss: 0.9279 - val_accuracy: 0.5956\n",
            "Epoch 49/50\n",
            "30/30 [==============================] - 0s 4ms/step - loss: 0.9169 - accuracy: 0.5941 - val_loss: 0.9330 - val_accuracy: 0.6225\n",
            "Epoch 50/50\n",
            "30/30 [==============================] - 0s 4ms/step - loss: 0.9041 - accuracy: 0.6120 - val_loss: 0.9338 - val_accuracy: 0.6078\n"
          ]
        }
      ]
    },
    {
      "cell_type": "code",
      "source": [
        "# 1.3E---\n",
        "\n",
        "import matplotlib.pyplot as plt\n",
        "\n",
        "# Plot training loss and validation loss\n",
        "plt.figure(figsize=(12, 5))\n",
        "plt.subplot(1, 2, 1)\n",
        "plt.plot(history1.history['loss'], label='Training Loss')\n",
        "plt.plot(history1.history['val_loss'], label='Validation Loss')\n",
        "plt.title('Training and Validation Loss')\n",
        "plt.xlabel('Epoch')\n",
        "plt.ylabel('Loss')\n",
        "plt.legend()\n",
        "\n",
        "# Plot training accuracy and validation accuracy\n",
        "plt.subplot(1, 2, 2)\n",
        "plt.plot(history1.history['accuracy'], label='Training Accuracy')\n",
        "plt.plot(history1.history['val_accuracy'], label='Validation Accuracy')\n",
        "plt.title('Training and Validation Accuracy')\n",
        "plt.xlabel('Epoch')\n",
        "plt.ylabel('Accuracy')\n",
        "plt.legend()\n",
        "\n",
        "plt.tight_layout()\n",
        "plt.show()\n"
      ],
      "metadata": {
        "colab": {
          "base_uri": "https://localhost:8080/",
          "height": 507
        },
        "id": "0eAuRaFo0jU1",
        "outputId": "cddd8a4b-c506-4bbc-ab78-d77caa6f8b59"
      },
      "execution_count": null,
      "outputs": [
        {
          "output_type": "display_data",
          "data": {
            "text/plain": [
              "<Figure size 1200x500 with 2 Axes>"
            ],
            "image/png": "[encoded data removed]"
          },
          "metadata": {}
        }
      ]
    },
    {
      "cell_type": "code",
      "source": [],
      "metadata": {
        "id": "m7Wd0bbI1NRE"
      },
      "execution_count": null,
      "outputs": []
    },
    {
      "cell_type": "markdown",
      "source": [
        "# 1.3E---\n",
        "\n",
        "# Model 0:\n",
        "\n",
        " # Final Accuracy: Model 0 achieved a higher training accuracy of 63.20% and a validation accuracy of 60.05%.\n",
        " # Training Dynamics: Model 0 shows fluctuation in loss over epochs, indicating some instability in training.\n",
        " #  Generalization Performance: Model 0's validation accuracy is slightly lower than its training accuracy, suggesting some degree of overfitting.\n",
        " #  Epochs to Convergence: Model 0 required 50 epochs to converge, indicating relatively stable training dynamics.\n",
        "\n",
        "# Model 1:\n",
        "\n",
        " #  Final Accuracy: Model 1 achieved a training accuracy of 63.83% and a validation accuracy of 60.29%.\n",
        " #  Training Dynamics: Model 1 exhibits a smoother decrease in loss over epochs compared to Model 0, indicating more stable training dynamics.\n",
        " #  Generalization Performance: Model 1's validation accuracy is slightly lower than its training accuracy, suggesting some overfitting but still better generalization compared to Model 0.\n",
        " #  Epochs to Convergence: Model 1 required 50 epochs to converge, indicating a similar training duration to Model 0."
      ],
      "metadata": {
        "id": "hHTngkOf2bBF"
      }
    },
    {
      "cell_type": "code",
      "source": [],
      "metadata": {
        "id": "AJEeaE9I2mev"
      },
      "execution_count": null,
      "outputs": []
    },
    {
      "cell_type": "markdown",
      "source": [
        "Part B -"
      ],
      "metadata": {
        "id": "9SffFR8j5bdF"
      }
    },
    {
      "cell_type": "code",
      "source": [
        "# 2.1A---\n",
        "\n",
        "import h5py\n",
        "\n",
        "h5_path = '/content/drive/MyDrive/dataset/Autonomous_Vehicles_SVHN_single_grey1.h5'\n",
        "dataset = h5py.File(h5_path, 'r')"
      ],
      "metadata": {
        "id": "etVIBDxL5hm0"
      },
      "execution_count": null,
      "outputs": []
    },
    {
      "cell_type": "code",
      "source": [
        "# 2.1B--\n",
        "\n",
        "for key in dataset.keys():\n",
        "    print(key)"
      ],
      "metadata": {
        "colab": {
          "base_uri": "https://localhost:8080/"
        },
        "id": "VEKklCox5tMy",
        "outputId": "cc1c15a3-a3c0-4a86-a6ff-cecd70017508"
      },
      "execution_count": null,
      "outputs": [
        {
          "output_type": "stream",
          "name": "stdout",
          "text": [
            "X_test\n",
            "X_train\n",
            "X_val\n",
            "y_test\n",
            "y_train\n",
            "y_val\n"
          ]
        }
      ]
    },
    {
      "cell_type": "code",
      "source": [
        "# 2.1C---\n",
        "\n",
        "from sklearn.model_selection import train_test_split\n",
        "\n",
        "X_train = dataset['X_train'][:]\n",
        "X_test = dataset['X_test'][:]\n",
        "Y_train = dataset['y_train'][:]\n",
        "Y_test = dataset['y_test'][:]"
      ],
      "metadata": {
        "id": "4A9bnZyW9jly"
      },
      "execution_count": null,
      "outputs": []
    },
    {
      "cell_type": "code",
      "source": [
        "# 2.2A--\n",
        "\n",
        "X_train = dataset['X_train'][:]\n",
        "X_test = dataset['X_test'][:]\n",
        "y_train = dataset['y_train'][:]\n",
        "y_test = dataset['y_test'][:]\n",
        "\n",
        "train_sync = X_train.shape[0] == y_train.shape[0]\n",
        "\n",
        "test_sync = X_test.shape[0] == y_test.shape[0]\n",
        "\n",
        "print(\"Train set - X and y in sync:\", train_sync)\n",
        "print(\"Test set - X and y in sync:\", test_sync)"
      ],
      "metadata": {
        "colab": {
          "base_uri": "https://localhost:8080/"
        },
        "id": "sCXdneWQ9ldK",
        "outputId": "1bcb94bc-bd81-4661-b0ea-eddfd04daddf"
      },
      "execution_count": null,
      "outputs": [
        {
          "output_type": "stream",
          "name": "stdout",
          "text": [
            "Train set - X and y in sync: True\n",
            "Test set - X and y in sync: True\n"
          ]
        }
      ]
    },
    {
      "cell_type": "code",
      "source": [
        "# 2.2B--\n",
        "\n",
        "import matplotlib.pyplot as plt\n",
        "\n",
        "plt.figure(figsize=(10, 5))\n",
        "for i in range(10):\n",
        "    plt.subplot(2, 5, i + 1)\n",
        "    plt.imshow(X_train[i], cmap='gray')\n",
        "    plt.title(f\"Label: {y_train[i]}\")\n",
        "    plt.axis('off')\n",
        "plt.show()"
      ],
      "metadata": {
        "colab": {
          "base_uri": "https://localhost:8080/",
          "height": 402
        },
        "id": "Y475Y-Sw_EZH",
        "outputId": "53993ac1-575a-452f-e2bb-20668124c57a"
      },
      "execution_count": null,
      "outputs": [
        {
          "output_type": "display_data",
          "data": {
            "text/plain": [
              "<Figure size 1000x500 with 10 Axes>"
            ],
            "image/png": "[encoded data removed]"
          },
          "metadata": {}
        }
      ]
    },
    {
      "cell_type": "code",
      "source": [
        "#  2.2 c--\n",
        "\n",
        "import numpy as np\n",
        "\n",
        "X_train = X_train.reshape(X_train.shape[0], 32, 32, 1)\n",
        "\n",
        "X_test = X_test.reshape(X_test.shape[0], 32, 32, 1)\n",
        "\n",
        "print(\"New shape of X_train:\", X_train.shape)\n",
        "print(\"New shape of X_test:\", X_test.shape)"
      ],
      "metadata": {
        "colab": {
          "base_uri": "https://localhost:8080/"
        },
        "id": "vflN00PH_U06",
        "outputId": "b41ed026-1587-4b1c-d2e6-b2867789d2cd"
      },
      "execution_count": null,
      "outputs": [
        {
          "output_type": "stream",
          "name": "stdout",
          "text": [
            "New shape of X_train: (42000, 32, 32, 1)\n",
            "New shape of X_test: (18000, 32, 32, 1)\n"
          ]
        }
      ]
    },
    {
      "cell_type": "code",
      "source": [
        "# 2.2D---\n",
        "\n",
        "# Assuming you have already reshaped the images in X_train and X_test\n",
        "\n",
        "# Normalize pixel values in the training set\n",
        "X_train_normalized = X_train / 255.0\n",
        "\n",
        "\n",
        "X_test_normalized = X_test / 255.0\n",
        "\n",
        "import numpy as np\n",
        "\n",
        "# Print minimum and maximum pixel values in the training set\n",
        "print(\"Minimum pixel value in X_train_normalized:\", np.min(X_train_normalized))\n",
        "print(\"Maximum pixel value in X_train_normalized:\", np.max(X_train_normalized))\n",
        "\n",
        "# Print minimum and maximum pixel values in the testing set\n",
        "print(\"Minimum pixel value in X_test_normalized:\", np.min(X_test_normalized))\n",
        "print(\"Maximum pixel value in X_test_normalized:\", np.max(X_test_normalized))\n"
      ],
      "metadata": {
        "colab": {
          "base_uri": "https://localhost:8080/"
        },
        "id": "vSpBDqvcANJx",
        "outputId": "dfc473ce-79f2-4085-9ff1-e2f5cbce34ff"
      },
      "execution_count": null,
      "outputs": [
        {
          "output_type": "stream",
          "name": "stdout",
          "text": [
            "Minimum pixel value in X_train_normalized: 0.0\n",
            "Maximum pixel value in X_train_normalized: 0.9999\n",
            "Minimum pixel value in X_test_normalized: 0.0\n",
            "Maximum pixel value in X_test_normalized: 0.9999\n"
          ]
        }
      ]
    },
    {
      "cell_type": "code",
      "source": [
        "# 2.2E---\n",
        "\n",
        "import numpy as np\n",
        "\n",
        "num_classes = 10\n",
        "\n",
        "y_train_encoded = np.eye(num_classes)[y_train]\n",
        "\n",
        "y_test_encoded = np.eye(num_classes)[y_test]\n",
        "\n",
        "samples_to_check = 10\n",
        "\n",
        "print(\"Original Labels for the First\", samples_to_check, \"Samples:\")\n",
        "print(y_train[:samples_to_check])\n",
        "print(\"\\nEncoded Labels for the First\", samples_to_check, \"Samples:\")\n",
        "print(y_train_encoded[:samples_to_check])"
      ],
      "metadata": {
        "colab": {
          "base_uri": "https://localhost:8080/"
        },
        "id": "HrxQr_j9AqI-",
        "outputId": "6842fe19-4274-4b17-b70a-d75a69c0d515"
      },
      "execution_count": null,
      "outputs": [
        {
          "output_type": "stream",
          "name": "stdout",
          "text": [
            "Original Labels for the First 10 Samples:\n",
            "[2 6 7 4 4 0 3 0 7 3]\n",
            "\n",
            "Encoded Labels for the First 10 Samples:\n",
            "[[0. 0. 1. 0. 0. 0. 0. 0. 0. 0.]\n",
            " [0. 0. 0. 0. 0. 0. 1. 0. 0. 0.]\n",
            " [0. 0. 0. 0. 0. 0. 0. 1. 0. 0.]\n",
            " [0. 0. 0. 0. 1. 0. 0. 0. 0. 0.]\n",
            " [0. 0. 0. 0. 1. 0. 0. 0. 0. 0.]\n",
            " [1. 0. 0. 0. 0. 0. 0. 0. 0. 0.]\n",
            " [0. 0. 0. 1. 0. 0. 0. 0. 0. 0.]\n",
            " [1. 0. 0. 0. 0. 0. 0. 0. 0. 0.]\n",
            " [0. 0. 0. 0. 0. 0. 0. 1. 0. 0.]\n",
            " [0. 0. 0. 1. 0. 0. 0. 0. 0. 0.]]\n"
          ]
        }
      ]
    },
    {
      "cell_type": "code",
      "source": [
        "# 2.2F---\n",
        "\n",
        "\n",
        "num_classes = len(np.unique(y_train))\n",
        "print(\"Total number of classes in the dataset:\", num_classes)"
      ],
      "metadata": {
        "colab": {
          "base_uri": "https://localhost:8080/"
        },
        "id": "CrBmi2aVlPO3",
        "outputId": "dccc79eb-4e44-4a13-d225-6b46b62886a5"
      },
      "execution_count": null,
      "outputs": [
        {
          "output_type": "stream",
          "name": "stdout",
          "text": [
            "Total number of classes in the dataset: 10\n"
          ]
        }
      ]
    },
    {
      "cell_type": "code",
      "source": [
        "# 2.3A---\n",
        "\n",
        "import tensorflow as tf\n",
        "from tensorflow.keras import layers, models\n",
        "\n",
        "def create_model(input_shape, num_classes):\n",
        "    model = models.Sequential([\n",
        "        layers.Input(shape=input_shape),\n",
        "\n",
        "        layers.Conv2D(32, (3, 3), activation='relu', padding='same'),\n",
        "        layers.MaxPooling2D((2, 2)),\n",
        "        layers.Conv2D(64, (3, 3), activation='relu', padding='same'),\n",
        "        layers.MaxPooling2D((2, 2)),\n",
        "        layers.Conv2D(64, (3, 3), activation='relu', padding='same'),\n",
        "        layers.MaxPooling2D((2, 2)),\n",
        "\n",
        "        layers.Flatten(),\n",
        "\n",
        "        layers.Dense(64, activation='relu'),\n",
        "        layers.Dense(num_classes, activation='softmax')\n",
        "    ])\n",
        "\n",
        "    model.compile(optimizer='adam',\n",
        "                  loss='sparse_categorical_crossentropy',\n",
        "                  metrics=['accuracy'])\n",
        "\n",
        "    return model\n",
        "\n",
        "input_shape = (32, 32, 1)\n",
        "\n",
        "num_classes = 10\n",
        "model = create_model(input_shape, num_classes)\n",
        "model.summary()"
      ],
      "metadata": {
        "colab": {
          "base_uri": "https://localhost:8080/"
        },
        "id": "qCZ8iSTxmNuz",
        "outputId": "4d60aa1a-9582-43e6-d57f-e83e1ce4bfe0"
      },
      "execution_count": null,
      "outputs": [
        {
          "output_type": "stream",
          "name": "stdout",
          "text": [
            "Model: \"sequential_2\"\n",
            "_________________________________________________________________\n",
            " Layer (type)                Output Shape              Param #   \n",
            "=================================================================\n",
            " conv2d (Conv2D)             (None, 32, 32, 32)        320       \n",
            "                                                                 \n",
            " max_pooling2d (MaxPooling2  (None, 16, 16, 32)        0         \n",
            " D)                                                              \n",
            "                                                                 \n",
            " conv2d_1 (Conv2D)           (None, 16, 16, 64)        18496     \n",
            "                                                                 \n",
            " max_pooling2d_1 (MaxPoolin  (None, 8, 8, 64)          0         \n",
            " g2D)                                                            \n",
            "                                                                 \n",
            " conv2d_2 (Conv2D)           (None, 8, 8, 64)          36928     \n",
            "                                                                 \n",
            " max_pooling2d_2 (MaxPoolin  (None, 4, 4, 64)          0         \n",
            " g2D)                                                            \n",
            "                                                                 \n",
            " flatten (Flatten)           (None, 1024)              0         \n",
            "                                                                 \n",
            " dense_6 (Dense)             (None, 64)                65600     \n",
            "                                                                 \n",
            " dense_7 (Dense)             (None, 10)                650       \n",
            "                                                                 \n",
            "=================================================================\n",
            "Total params: 121994 (476.54 KB)\n",
            "Trainable params: 121994 (476.54 KB)\n",
            "Non-trainable params: 0 (0.00 Byte)\n",
            "_________________________________________________________________\n"
          ]
        }
      ]
    },
    {
      "cell_type": "code",
      "source": [
        "# 2.3B---\n",
        "\n",
        "from tensorflow.keras.models import Sequential\n",
        "from tensorflow.keras.layers import Conv2D, MaxPooling2D, Flatten, Dense\n",
        "from tensorflow.keras.optimizers import Adam\n",
        "\n",
        "model = Sequential([\n",
        "    Conv2D(32, (3, 3), activation='relu', input_shape=(32, 32, 1)),\n",
        "    MaxPooling2D((2, 2)),\n",
        "    Conv2D(64, (3, 3), activation='relu'),\n",
        "    MaxPooling2D((2, 2)),\n",
        "    Conv2D(64, (3, 3), activation='relu'),\n",
        "    MaxPooling2D((2, 2)),\n",
        "    Flatten(),\n",
        "    Dense(64, activation='relu'),\n",
        "    Dense(10, activation='softmax')\n",
        "])\n",
        "\n",
        "model.compile(optimizer='adam',\n",
        "              loss='sparse_categorical_crossentropy',\n",
        "              metrics=['accuracy'])\n",
        "\n",
        "history = model.fit(X_train_normalized, y_train, epochs=10, batch_size=64, validation_data=(X_test_normalized, y_test))\n"
      ],
      "metadata": {
        "colab": {
          "base_uri": "https://localhost:8080/"
        },
        "id": "CGOreDiJmsaW",
        "outputId": "b15de544-7f1f-4b7b-d398-a084bf226f6c"
      },
      "execution_count": null,
      "outputs": [
        {
          "output_type": "stream",
          "name": "stdout",
          "text": [
            "Epoch 1/10\n",
            "657/657 [==============================] - 60s 90ms/step - loss: 1.2153 - accuracy: 0.5979 - val_loss: 0.6741 - val_accuracy: 0.7988\n",
            "Epoch 2/10\n",
            "657/657 [==============================] - 57s 87ms/step - loss: 0.5888 - accuracy: 0.8335 - val_loss: 0.5286 - val_accuracy: 0.8517\n",
            "Epoch 3/10\n",
            "657/657 [==============================] - 62s 95ms/step - loss: 0.4893 - accuracy: 0.8618 - val_loss: 0.4780 - val_accuracy: 0.8652\n",
            "Epoch 4/10\n",
            "657/657 [==============================] - 57s 86ms/step - loss: 0.4329 - accuracy: 0.8778 - val_loss: 0.4424 - val_accuracy: 0.8768\n",
            "Epoch 5/10\n",
            "657/657 [==============================] - 60s 92ms/step - loss: 0.3928 - accuracy: 0.8883 - val_loss: 0.4316 - val_accuracy: 0.8798\n",
            "Epoch 6/10\n",
            "657/657 [==============================] - 58s 89ms/step - loss: 0.3624 - accuracy: 0.8958 - val_loss: 0.3850 - val_accuracy: 0.8942\n",
            "Epoch 7/10\n",
            "657/657 [==============================] - 56s 85ms/step - loss: 0.3335 - accuracy: 0.9037 - val_loss: 0.3737 - val_accuracy: 0.8937\n",
            "Epoch 8/10\n",
            "657/657 [==============================] - 62s 94ms/step - loss: 0.3144 - accuracy: 0.9083 - val_loss: 0.3586 - val_accuracy: 0.8982\n",
            "Epoch 9/10\n",
            "657/657 [==============================] - 61s 93ms/step - loss: 0.2933 - accuracy: 0.9135 - val_loss: 0.3686 - val_accuracy: 0.8968\n",
            "Epoch 10/10\n",
            "657/657 [==============================] - 56s 85ms/step - loss: 0.2763 - accuracy: 0.9192 - val_loss: 0.3541 - val_accuracy: 0.9025\n"
          ]
        }
      ]
    },
    {
      "cell_type": "code",
      "source": [
        "# 2.3C---\n",
        "\n",
        "from sklearn.metrics import classification_report\n",
        "\n",
        "y_pred_prob = model.predict(X_test_normalized)\n",
        "y_pred = np.argmax(y_pred_prob, axis=1)\n",
        "\n",
        "report = classification_report(y_test, y_pred)\n",
        "print(report)"
      ],
      "metadata": {
        "colab": {
          "base_uri": "https://localhost:8080/"
        },
        "id": "zXtnLItAn5hC",
        "outputId": "04307cb0-8766-41bd-d7da-b7a5e9412d23"
      },
      "execution_count": null,
      "outputs": [
        {
          "output_type": "stream",
          "name": "stdout",
          "text": [
            "563/563 [==============================] - 8s 14ms/step\n",
            "              precision    recall  f1-score   support\n",
            "\n",
            "           0       0.92      0.93      0.92      1814\n",
            "           1       0.86      0.94      0.90      1828\n",
            "           2       0.94      0.91      0.92      1803\n",
            "           3       0.86      0.88      0.87      1719\n",
            "           4       0.94      0.90      0.92      1812\n",
            "           5       0.85      0.93      0.89      1768\n",
            "           6       0.89      0.89      0.89      1832\n",
            "           7       0.93      0.92      0.93      1808\n",
            "           8       0.92      0.85      0.89      1812\n",
            "           9       0.94      0.86      0.89      1804\n",
            "\n",
            "    accuracy                           0.90     18000\n",
            "   macro avg       0.90      0.90      0.90     18000\n",
            "weighted avg       0.90      0.90      0.90     18000\n",
            "\n"
          ]
        }
      ]
    },
    {
      "cell_type": "code",
      "source": [
        "# 2.3D---\n",
        "\n",
        "import matplotlib.pyplot as plt\n",
        "\n",
        "train_loss = history.history['loss']\n",
        "val_loss = history.history['val_loss']\n",
        "train_acc = history.history['accuracy']\n",
        "val_acc = history.history['val_accuracy']\n",
        "epochs = range(1, len(train_loss) + 1)\n",
        "\n",
        "plt.figure(figsize=(12, 5))\n",
        "plt.subplot(1, 2, 1)\n",
        "plt.plot(epochs, train_loss, 'bo-', label='Training Loss')\n",
        "plt.plot(epochs, val_loss, 'ro-', label='Validation Loss')\n",
        "plt.title('Training and Validation Loss')\n",
        "plt.xlabel('Epochs')\n",
        "plt.ylabel('Loss')\n",
        "plt.legend()\n",
        "\n",
        "plt.subplot(1, 2, 2)\n",
        "plt.plot(epochs, train_acc, 'bo-', label='Training Accuracy')\n",
        "plt.plot(epochs, val_acc, 'ro-', label='Validation Accuracy')\n",
        "plt.title('Training and Validation Accuracy')\n",
        "plt.xlabel('Epochs')\n",
        "plt.ylabel('Accuracy')\n",
        "plt.legend()\n",
        "\n",
        "plt.tight_layout()\n",
        "plt.show()"
      ],
      "metadata": {
        "colab": {
          "base_uri": "https://localhost:8080/",
          "height": 507
        },
        "id": "ilqT8N5rq0Z9",
        "outputId": "2f76d25a-ea8a-463b-8dab-825d6c4574c1"
      },
      "execution_count": null,
      "outputs": [
        {
          "output_type": "display_data",
          "data": {
            "text/plain": [
              "<Figure size 1200x500 with 2 Axes>"
            ],
            "image/png": "[encoded data removed]"
          },
          "metadata": {}
        }
      ]
    },
    {
      "cell_type": "markdown",
      "source": [
        "# INSIGHTS---\n",
        "\n",
        "# Training and Validation Loss: The left graph shows a decreasing trend in both training and validation loss over epochs. This indicates that the model is learning and improving its predictions over time.\n",
        "# Training and Validation Accuracy: The right graph shows an increasing trend in both training and validation accuracy over epochs. This suggests that the model’s performance is improving with each epoch.\n",
        "# Potential Overfitting: There is a gap between the training and validation lines in both graphs, which may suggest some overfitting. The model performs better on the training data than on unseen validation data."
      ],
      "metadata": {
        "id": "GmbLg2ux0Drq"
      }
    },
    {
      "cell_type": "code",
      "source": [],
      "metadata": {
        "id": "k3t4bfal0PIW"
      },
      "execution_count": null,
      "outputs": []
    }
  ]
}